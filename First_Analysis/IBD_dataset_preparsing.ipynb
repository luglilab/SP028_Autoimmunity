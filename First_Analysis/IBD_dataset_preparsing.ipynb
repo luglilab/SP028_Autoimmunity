{
 "cells": [
  {
   "cell_type": "markdown",
   "metadata": {},
   "source": [
    "# Set kernel R shell"
   ]
  },
  {
   "cell_type": "code",
   "execution_count": 2,
   "metadata": {},
   "outputs": [
    {
     "name": "stderr",
     "output_type": "stream",
     "text": [
      "Warning message:\n",
      "“Feature names cannot have underscores ('_'), replacing with dashes ('-')”\n",
      "Warning message:\n",
      "“Feature names cannot have underscores ('_'), replacing with dashes ('-')”\n",
      "Warning message:\n",
      "“Feature names cannot have underscores ('_'), replacing with dashes ('-')”\n",
      "Warning message:\n",
      "“Feature names cannot have underscores ('_'), replacing with dashes ('-')”\n",
      "Warning message:\n",
      "“Feature names cannot have underscores ('_'), replacing with dashes ('-')”\n",
      "Warning message:\n",
      "“Feature names cannot have underscores ('_'), replacing with dashes ('-')”\n",
      "Warning message:\n",
      "“Feature names cannot have underscores ('_'), replacing with dashes ('-')”\n",
      "Warning message:\n",
      "“Feature names cannot have underscores ('_'), replacing with dashes ('-')”\n",
      "Warning message:\n",
      "“Feature names cannot have underscores ('_'), replacing with dashes ('-')”\n"
     ]
    }
   ],
   "source": [
    ".libPaths(\"/home/spuccio/miniconda3/envs/scrnseq/lib/R/library\")\n",
    "suppressMessages(suppressWarnings(require(SingleCellExperiment)))\n",
    "suppressMessages(suppressWarnings(require(Seurat)))\n",
    "suppressMessages(suppressWarnings(require(tidyverse)))\n",
    "suppressMessages(suppressWarnings(require(Matrix)))\n",
    "suppressMessages(suppressWarnings(require(scales)))\n",
    "suppressMessages(suppressWarnings(require(cowplot)))\n",
    "suppressMessages(suppressWarnings(require(RCurl)))\n",
    "suppressMessages(suppressWarnings(require(DropletUtils)))\n",
    "for (file in c(\"PTZ_6\",\"PTZ_7\",\"PTZ_8\",\"PTZ_10\",\"PTZ_11\",\"PTZ_12\",\"PTZ_14\",\"PTZ_15\",\"PTZ_16\")){\n",
    "        seurat_data <- Read10X(data.dir = paste0(\"/mnt/lugli/SP028_Autoimmunity/dataset/IBD_RNA_sequencing_result/IBD_counts/\", file))\n",
    "        seurat_obj <- CreateSeuratObject(counts = seurat_data, \n",
    "                                         min.cells = 3, min.features = 100, \n",
    "                                         project = file)\n",
    "        assign(file, seurat_obj)\n",
    "}"
   ]
  },
  {
   "cell_type": "code",
   "execution_count": 4,
   "metadata": {},
   "outputs": [],
   "source": [
    "merged_seurat_PTZ6_7 <- merge(x = PTZ_6, \n",
    "                       y = PTZ_7, \n",
    "                       add.cell.id = c(\"PTZ_6\", \"PTZ_7\"))"
   ]
  },
  {
   "cell_type": "code",
   "execution_count": 39,
   "metadata": {},
   "outputs": [
    {
     "data": {
      "text/plain": [
       "An object of class Seurat \n",
       "18019 features across 5645 samples within 1 assay \n",
       "Active assay: RNA (18019 features, 0 variable features)"
      ]
     },
     "metadata": {},
     "output_type": "display_data"
    }
   ],
   "source": [
    "merged_seurat_PTZ6_7"
   ]
  },
  {
   "cell_type": "code",
   "execution_count": 5,
   "metadata": {},
   "outputs": [],
   "source": [
    "merged_seurat_PTZ6_7_8 <- merge(x = merged_seurat_PTZ6_7, \n",
    "                       y = PTZ_8, \n",
    "                       add.cell.id = c(\"merged\",\"PTZ_8\"))"
   ]
  },
  {
   "cell_type": "code",
   "execution_count": 40,
   "metadata": {},
   "outputs": [
    {
     "data": {
      "text/plain": [
       "An object of class Seurat \n",
       "18851 features across 10756 samples within 1 assay \n",
       "Active assay: RNA (18851 features, 0 variable features)"
      ]
     },
     "metadata": {},
     "output_type": "display_data"
    }
   ],
   "source": [
    "merged_seurat_PTZ6_7_8"
   ]
  },
  {
   "cell_type": "code",
   "execution_count": 8,
   "metadata": {},
   "outputs": [],
   "source": [
    "merged_seurat_PTZ6_7_8_10 <- merge(x = merged_seurat_PTZ6_7_8, \n",
    "                       y = PTZ_10, \n",
    "                       add.cell.id = c(\"merged\",\"PTZ_10\"))"
   ]
  },
  {
   "cell_type": "code",
   "execution_count": 43,
   "metadata": {},
   "outputs": [
    {
     "data": {
      "text/plain": [
       "An object of class Seurat \n",
       "15412 features across 1875 samples within 1 assay \n",
       "Active assay: RNA (15412 features, 0 variable features)"
      ]
     },
     "metadata": {},
     "output_type": "display_data"
    }
   ],
   "source": []
  },
  {
   "cell_type": "code",
   "execution_count": 9,
   "metadata": {},
   "outputs": [],
   "source": [
    "merged_seurat_PTZ6_7_8_10_11 <- merge(x = merged_seurat_PTZ6_7_8_10, \n",
    "                       y = PTZ_11, \n",
    "                       add.cell.id = c(\"merged\",\"PTZ_11\"))"
   ]
  },
  {
   "cell_type": "code",
   "execution_count": 10,
   "metadata": {},
   "outputs": [],
   "source": [
    "merged_seurat_PTZ6_7_8_10_11_12 <- merge(x = merged_seurat_PTZ6_7_8_10_11, \n",
    "                       y = PTZ_12, \n",
    "                       add.cell.id = c(\"merged\",\"PTZ_12\"))"
   ]
  },
  {
   "cell_type": "code",
   "execution_count": 11,
   "metadata": {},
   "outputs": [],
   "source": [
    "merged_seurat_PTZ6_7_8_10_11_12_14 <- merge(x = merged_seurat_PTZ6_7_8_10_11_12, \n",
    "                       y = PTZ_14, \n",
    "                       add.cell.id = c(\"merged\",\"PTZ_14\"))"
   ]
  },
  {
   "cell_type": "code",
   "execution_count": 12,
   "metadata": {},
   "outputs": [],
   "source": [
    "merged_seurat_PTZ6_7_8_10_11_12_14_15 <- merge(x = merged_seurat_PTZ6_7_8_10_11_12_14, \n",
    "                       y = PTZ_15, \n",
    "                       add.cell.id = c(\"merged\",\"PTZ_15\"))"
   ]
  },
  {
   "cell_type": "code",
   "execution_count": 14,
   "metadata": {},
   "outputs": [],
   "source": [
    "merged_seurat <- merge(x = merged_seurat_PTZ6_7_8_10_11_12_14_15, \n",
    "                       y = PTZ_16, \n",
    "                       add.cell.id = c(\"merged\",\"PTZ_16\"))"
   ]
  },
  {
   "cell_type": "code",
   "execution_count": 15,
   "metadata": {},
   "outputs": [],
   "source": [
    "# Add number of genes per UMI for each cell to metadata\n",
    "merged_seurat$log10GenesPerUMI <- log10(merged_seurat$nFeature_RNA) / log10(merged_seurat$nCount_RNA)"
   ]
  },
  {
   "cell_type": "code",
   "execution_count": 16,
   "metadata": {},
   "outputs": [],
   "source": [
    "# Compute percent mito ratio\n",
    "merged_seurat$mitoRatio <- PercentageFeatureSet(object = merged_seurat, pattern = \"^MT-\")\n",
    "merged_seurat$mitoRatio <- merged_seurat@meta.data$mitoRatio / 100"
   ]
  },
  {
   "cell_type": "code",
   "execution_count": 17,
   "metadata": {},
   "outputs": [],
   "source": [
    "# Create metadata dataframe\n",
    "metadata <- merged_seurat@meta.data"
   ]
  },
  {
   "cell_type": "code",
   "execution_count": 18,
   "metadata": {},
   "outputs": [],
   "source": [
    "merged_seurat@meta.data <- metadata"
   ]
  },
  {
   "cell_type": "code",
   "execution_count": 19,
   "metadata": {},
   "outputs": [],
   "source": [
    "# Add cell IDs to metadata\n",
    "metadata$cells <- rownames(metadata)\n",
    "\n",
    "# Rename columns\n",
    "metadata <- metadata %>%\n",
    "        dplyr::rename(seq_folder = orig.ident,\n",
    "                      nUMI = nCount_RNA,\n",
    "                      nGene = nFeature_RNA)"
   ]
  },
  {
   "cell_type": "code",
   "execution_count": 31,
   "metadata": {},
   "outputs": [],
   "source": [
    "row.names(metadata) <- gsub(x = row.names(metadata), pattern = \"merged_\", replacement = \"\")"
   ]
  },
  {
   "cell_type": "code",
   "execution_count": 34,
   "metadata": {},
   "outputs": [],
   "source": [
    "row.names(metadata) <- gsub(x = row.names(metadata), pattern = \"PTZ_[0-9]_\", replacement = \"\")"
   ]
  },
  {
   "cell_type": "code",
   "execution_count": 36,
   "metadata": {},
   "outputs": [],
   "source": [
    "row.names(metadata) <- gsub(x = row.names(metadata), pattern = \"PTZ_[0-9][0-9]\", replacement = \"\")"
   ]
  },
  {
   "cell_type": "code",
   "execution_count": 37,
   "metadata": {},
   "outputs": [],
   "source": [
    "write.table(metadata,\"/mnt/lugli/SP028_Autoimmunity/dataset/IBD_RNA_sequencing_result/IBD_counts/Merged_metadata.txt\",sep=\"\\t\",quote=F,row.names = T)"
   ]
  },
  {
   "cell_type": "code",
   "execution_count": 45,
   "metadata": {},
   "outputs": [],
   "source": [
    "write10xCounts(x = merged_seurat@assays$RNA@counts, path = \"/mnt/lugli/SP028_Autoimmunity/dataset/IBD_RNA_sequencing_result/IBD_counts/10Xmerge\",version = \"2\", overwrite = TRUE)"
   ]
  }
 ],
 "metadata": {
  "kernelspec": {
   "display_name": "R",
   "language": "R",
   "name": "ir"
  },
  "language_info": {
   "codemirror_mode": "r",
   "file_extension": ".r",
   "mimetype": "text/x-r-source",
   "name": "R",
   "pygments_lexer": "r",
   "version": "3.6.3"
  }
 },
 "nbformat": 4,
 "nbformat_minor": 4
}
