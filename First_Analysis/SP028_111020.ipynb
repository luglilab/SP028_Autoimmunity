{
 "cells": [
  {
   "cell_type": "code",
   "execution_count": 337,
   "metadata": {},
   "outputs": [],
   "source": [
    "import scanpy as sc\n",
    "import numpy as np\n",
    "import scipy as sp\n",
    "import pandas as pd\n",
    "import matplotlib.pyplot as plt\n",
    "from matplotlib import rcParams\n",
    "from matplotlib import colors\n",
    "import seaborn as sb\n",
    "from gprofiler import GProfiler\n",
    "import loompy as lp\n",
    "import rpy2.rinterface_lib.callbacks\n",
    "import logging\n",
    "import scrublet as scr\n",
    "from rpy2.robjects import pandas2ri\n",
    "import anndata2ri\n",
    "import scanorama"
   ]
  },
  {
   "cell_type": "code",
   "execution_count": 2,
   "metadata": {},
   "outputs": [
    {
     "name": "stdout",
     "output_type": "stream",
     "text": [
      "scanpy==1.5.1 anndata==0.7.1 umap==0.4.2 numpy==1.17.5 scipy==1.4.1 pandas==1.0.3 scikit-learn==0.23.1 statsmodels==0.11.1 python-igraph==0.8.2 louvain==0.6.1 leidenalg==0.8.0\n"
     ]
    }
   ],
   "source": [
    "# Ignore R warning messages\n",
    "#Note: this can be commented out to get more verbose R output\n",
    "rpy2.rinterface_lib.callbacks.logger.setLevel(logging.ERROR)\n",
    "\n",
    "# Automatically convert rpy2 outputs to pandas dataframes\n",
    "pandas2ri.activate()\n",
    "anndata2ri.activate()\n",
    "%load_ext rpy2.ipython\n",
    "\n",
    "plt.rcParams['figure.figsize']=(8,8) #rescale figures\n",
    "sc.settings.verbosity = 3\n",
    "#sc.set_figure_params(dpi=200, dpi_save=300)\n",
    "sc.logging.print_versions()"
   ]
  },
  {
   "cell_type": "code",
   "execution_count": 3,
   "metadata": {},
   "outputs": [
    {
     "name": "stdout",
     "output_type": "stream",
     "text": [
      "The rpy2.ipython extension is already loaded. To reload it, use:\n",
      "  %reload_ext rpy2.ipython\n",
      "scanpy==1.5.1 anndata==0.7.1 umap==0.4.2 numpy==1.17.5 scipy==1.4.1 pandas==1.0.3 scikit-learn==0.23.1 statsmodels==0.11.1 python-igraph==0.8.2 louvain==0.6.1 leidenalg==0.8.0\n"
     ]
    }
   ],
   "source": [
    "# Ignore R warning messages\n",
    "#Note: this can be commented out to get more verbose R output\n",
    "rpy2.rinterface_lib.callbacks.logger.setLevel(logging.ERROR)\n",
    "\n",
    "# Automatically convert rpy2 outputs to pandas dataframes\n",
    "pandas2ri.activate()\n",
    "anndata2ri.activate()\n",
    "%load_ext rpy2.ipython\n",
    "\n",
    "plt.rcParams['figure.figsize']=(8,8) #rescale figures\n",
    "sc.settings.verbosity = 3\n",
    "#sc.set_figure_params(dpi=200, dpi_save=300)\n",
    "sc.logging.print_versions()"
   ]
  },
  {
   "cell_type": "code",
   "execution_count": 7,
   "metadata": {},
   "outputs": [],
   "source": [
    "%%R\n",
    "# Load libraries from correct lib Paths for my environment - ignore this!\n",
    ".libPaths(\"/home/spuccio/miniconda3/envs/singlecell/lib/R/library\")\n",
    "\n",
    "# Load all the R libraries we will be using in the notebook\n",
    "library(scran)\n",
    "library(RColorBrewer)\n",
    "library(slingshot)\n",
    "library(monocle)\n",
    "library(gam)\n",
    "library(clusterExperiment)\n",
    "library(ggplot2)\n",
    "library(plyr)\n",
    "library(MAST)\n",
    "library(clustree)\n",
    "library(SingleCellExperiment)\n",
    "library(CHETAH)\n",
    "library(SingleR)\n",
    "library(cowplot)\n",
    "library(Matrix)"
   ]
  },
  {
   "cell_type": "markdown",
   "metadata": {},
   "source": [
    "# Import LUNG dataset (3Ptz)"
   ]
  },
  {
   "cell_type": "code",
   "execution_count": 4,
   "metadata": {},
   "outputs": [
    {
     "name": "stdout",
     "output_type": "stream",
     "text": [
      "--> This might be very slow. Consider passing `cache=True`, which enables much faster reading from a cache file.\n"
     ]
    }
   ],
   "source": [
    "path_lung=\"/mnt/lugli/SP028_Autoimmunity/dataset/PangenomeBlueprint/LC_counts/\"\n",
    "adata_lung = sc.read(\"\".join([path_lung,\"matrix.mtx\"]), cache=False)\n",
    "adata_lung = adata_lung.transpose()\n",
    "adata_lung.X = adata_lung.X.toarray()\n",
    "barcodes = pd.read_csv(\"\".join([path_lung,\"barcodes.tsv\"]), header=None, sep='\\t')\n",
    "genes = pd.read_csv(\"\".join([path_lung,\"genes.tsv\"]), header=None, sep='\\t')\n",
    "#Annotate data\n",
    "barcodes.rename(columns={0:'barcode'}, inplace=True)\n",
    "barcodes.set_index('barcode', inplace=True)\n",
    "adata_lung.obs = barcodes\n",
    "genes.rename(columns={0:'gene_id', 1:'gene_symbol'}, inplace=True)\n",
    "genes.set_index('gene_symbol', inplace=True)\n",
    "adata_lung.var = genes"
   ]
  },
  {
   "cell_type": "code",
   "execution_count": 5,
   "metadata": {},
   "outputs": [
    {
     "data": {
      "text/html": [
       "<div>\n",
       "<style scoped>\n",
       "    .dataframe tbody tr th:only-of-type {\n",
       "        vertical-align: middle;\n",
       "    }\n",
       "\n",
       "    .dataframe tbody tr th {\n",
       "        vertical-align: top;\n",
       "    }\n",
       "\n",
       "    .dataframe thead th {\n",
       "        text-align: right;\n",
       "    }\n",
       "</style>\n",
       "<table border=\"1\" class=\"dataframe\">\n",
       "  <thead>\n",
       "    <tr style=\"text-align: right;\">\n",
       "      <th></th>\n",
       "      <th>Cell</th>\n",
       "      <th>nGene</th>\n",
       "      <th>nUMI</th>\n",
       "      <th>CellFromTumor</th>\n",
       "      <th>PatientNumber</th>\n",
       "      <th>TumorType</th>\n",
       "      <th>TumorSite</th>\n",
       "      <th>CellType</th>\n",
       "    </tr>\n",
       "  </thead>\n",
       "  <tbody>\n",
       "    <tr>\n",
       "      <th>0</th>\n",
       "      <td>BT1238_AAATCAACTGCCTC</td>\n",
       "      <td>897</td>\n",
       "      <td>3227</td>\n",
       "      <td>True</td>\n",
       "      <td>1</td>\n",
       "      <td>Lung</td>\n",
       "      <td>I</td>\n",
       "      <td>Cancer</td>\n",
       "    </tr>\n",
       "    <tr>\n",
       "      <th>1</th>\n",
       "      <td>BT1238_AACATTGACCTAAG</td>\n",
       "      <td>509</td>\n",
       "      <td>731</td>\n",
       "      <td>True</td>\n",
       "      <td>1</td>\n",
       "      <td>Lung</td>\n",
       "      <td>I</td>\n",
       "      <td>Cancer</td>\n",
       "    </tr>\n",
       "    <tr>\n",
       "      <th>2</th>\n",
       "      <td>BT1238_AACCAGTGCTTAGG</td>\n",
       "      <td>642</td>\n",
       "      <td>2958</td>\n",
       "      <td>True</td>\n",
       "      <td>1</td>\n",
       "      <td>Lung</td>\n",
       "      <td>I</td>\n",
       "      <td>Myeloid</td>\n",
       "    </tr>\n",
       "    <tr>\n",
       "      <th>3</th>\n",
       "      <td>BT1238_AACCTACTCGCTAA</td>\n",
       "      <td>925</td>\n",
       "      <td>2781</td>\n",
       "      <td>True</td>\n",
       "      <td>1</td>\n",
       "      <td>Lung</td>\n",
       "      <td>I</td>\n",
       "      <td>T_cell</td>\n",
       "    </tr>\n",
       "    <tr>\n",
       "      <th>4</th>\n",
       "      <td>BT1238_AACTCTTGCTGTAG</td>\n",
       "      <td>713</td>\n",
       "      <td>3000</td>\n",
       "      <td>True</td>\n",
       "      <td>1</td>\n",
       "      <td>Lung</td>\n",
       "      <td>I</td>\n",
       "      <td>T_cell</td>\n",
       "    </tr>\n",
       "  </tbody>\n",
       "</table>\n",
       "</div>"
      ],
      "text/plain": [
       "                    Cell  nGene  nUMI  CellFromTumor  PatientNumber TumorType  \\\n",
       "0  BT1238_AAATCAACTGCCTC    897  3227           True              1      Lung   \n",
       "1  BT1238_AACATTGACCTAAG    509   731           True              1      Lung   \n",
       "2  BT1238_AACCAGTGCTTAGG    642  2958           True              1      Lung   \n",
       "3  BT1238_AACCTACTCGCTAA    925  2781           True              1      Lung   \n",
       "4  BT1238_AACTCTTGCTGTAG    713  3000           True              1      Lung   \n",
       "\n",
       "  TumorSite CellType  \n",
       "0         I   Cancer  \n",
       "1         I   Cancer  \n",
       "2         I  Myeloid  \n",
       "3         I   T_cell  \n",
       "4         I   T_cell  "
      ]
     },
     "execution_count": 5,
     "metadata": {},
     "output_type": "execute_result"
    }
   ],
   "source": [
    "Metadata_lung = pd.read_csv(\"/mnt/lugli/SP025_NaClTcell/PangenomeBlueprint/LC_metadata.csv\",header=0,low_memory=False)\n",
    "Metadata_lung.head()"
   ]
  },
  {
   "cell_type": "code",
   "execution_count": 6,
   "metadata": {},
   "outputs": [],
   "source": [
    "adata_lung.obs['CellId'] = Metadata_lung[\"Cell\"].to_list()\n",
    "adata_lung.obs['CellFromTumor'] = Metadata_lung[\"CellFromTumor\"].to_list()\n",
    "adata_lung.obs['PatientNumber'] = Metadata_lung[\"PatientNumber\"].to_list()\n",
    "adata_lung.obs['TumorType'] = Metadata_lung[\"TumorType\"].to_list()\n",
    "adata_lung.obs['TumorSite'] = Metadata_lung[\"TumorSite\"].to_list()\n",
    "adata_lung.obs['CellType'] = Metadata_lung[\"CellType\"].to_list()"
   ]
  },
  {
   "cell_type": "code",
   "execution_count": 7,
   "metadata": {},
   "outputs": [
    {
     "name": "stdout",
     "output_type": "stream",
     "text": [
      "5    21167\n",
      "4    17272\n",
      "3    16791\n",
      "7    16359\n",
      "8    10765\n",
      "6     6949\n",
      "2     2799\n",
      "1     1473\n",
      "Name: PatientNumber, dtype: int64\n"
     ]
    }
   ],
   "source": [
    "print(adata_lung.obs['PatientNumber'].value_counts())"
   ]
  },
  {
   "cell_type": "code",
   "execution_count": 8,
   "metadata": {},
   "outputs": [],
   "source": [
    "adenocarcinomacell = (adata_lung.obs['PatientNumber'] == 3) | (adata_lung.obs['PatientNumber'] == 4) | (adata_lung.obs['PatientNumber'] == 6)"
   ]
  },
  {
   "cell_type": "code",
   "execution_count": 9,
   "metadata": {},
   "outputs": [
    {
     "name": "stdout",
     "output_type": "stream",
     "text": [
      "Total number of cell from Lung adenocarcinoma 41012\n"
     ]
    }
   ],
   "source": [
    "print(f'Total number of cell from Lung adenocarcinoma {sum(adenocarcinomacell)}')"
   ]
  },
  {
   "cell_type": "code",
   "execution_count": 10,
   "metadata": {},
   "outputs": [],
   "source": [
    "adata_lung = adata_lung[adenocarcinomacell, :]"
   ]
  },
  {
   "cell_type": "code",
   "execution_count": 11,
   "metadata": {},
   "outputs": [
    {
     "name": "stderr",
     "output_type": "stream",
     "text": [
      "/home/spuccio/miniconda3/envs/scrnseq/lib/python3.6/site-packages/anndata/_core/anndata.py:1172: ImplicitModificationWarning: Initializing view as actual.\n",
      "  \"Initializing view as actual.\", ImplicitModificationWarning\n",
      "Trying to set attribute `.obs` of view, copying.\n",
      "... storing 'TumorType' as categorical\n",
      "Trying to set attribute `.obs` of view, copying.\n",
      "... storing 'TumorSite' as categorical\n",
      "Trying to set attribute `.obs` of view, copying.\n",
      "... storing 'CellType' as categorical\n"
     ]
    }
   ],
   "source": [
    "adata_lung.write(\"/mnt/lugli/SP028_Autoimmunity/h5_files/adatalung.h5ad\")"
   ]
  },
  {
   "cell_type": "markdown",
   "metadata": {},
   "source": [
    "# Import Ovarian Cancer dataset (5Ptz)"
   ]
  },
  {
   "cell_type": "code",
   "execution_count": 94,
   "metadata": {},
   "outputs": [
    {
     "name": "stdout",
     "output_type": "stream",
     "text": [
      "--> This might be very slow. Consider passing `cache=True`, which enables much faster reading from a cache file.\n"
     ]
    }
   ],
   "source": [
    "path_oc=\"/mnt/lugli/SP028_Autoimmunity/dataset/PangenomeBlueprint/OvC_counts/\"\n",
    "adata_oc = sc.read(\"\".join([path_oc,\"matrix.mtx\"]), cache=False)\n",
    "adata_oc = adata_oc.transpose()\n",
    "adata_oc.X = adata_oc.X.toarray()\n",
    "barcodes = pd.read_csv(\"\".join([path_oc,\"barcodes.tsv\"]), header=None, sep='\\t')\n",
    "genes = pd.read_csv(\"\".join([path_oc,\"genes.tsv\"]), header=None, sep='\\t')\n",
    "#Annotate data\n",
    "barcodes.rename(columns={0:'barcode'}, inplace=True)\n",
    "barcodes.set_index('barcode', inplace=True)\n",
    "adata_oc.obs = barcodes\n",
    "genes.rename(columns={0:'gene_id', 1:'gene_symbol'}, inplace=True)\n",
    "genes.set_index('gene_symbol', inplace=True)\n",
    "adata_oc.var = genes"
   ]
  },
  {
   "cell_type": "code",
   "execution_count": 95,
   "metadata": {},
   "outputs": [
    {
     "data": {
      "text/html": [
       "<div>\n",
       "<style scoped>\n",
       "    .dataframe tbody tr th:only-of-type {\n",
       "        vertical-align: middle;\n",
       "    }\n",
       "\n",
       "    .dataframe tbody tr th {\n",
       "        vertical-align: top;\n",
       "    }\n",
       "\n",
       "    .dataframe thead th {\n",
       "        text-align: right;\n",
       "    }\n",
       "</style>\n",
       "<table border=\"1\" class=\"dataframe\">\n",
       "  <thead>\n",
       "    <tr style=\"text-align: right;\">\n",
       "      <th></th>\n",
       "      <th>Cell</th>\n",
       "      <th>nGene</th>\n",
       "      <th>nUMI</th>\n",
       "      <th>CellFromTumor</th>\n",
       "      <th>PatientNumber</th>\n",
       "      <th>TumorType</th>\n",
       "      <th>TumorSite</th>\n",
       "      <th>CellType</th>\n",
       "    </tr>\n",
       "  </thead>\n",
       "  <tbody>\n",
       "    <tr>\n",
       "      <th>0</th>\n",
       "      <td>BT1303_AAACCTGAGAGCCCAA</td>\n",
       "      <td>208</td>\n",
       "      <td>951</td>\n",
       "      <td>1</td>\n",
       "      <td>11</td>\n",
       "      <td>Ovarian</td>\n",
       "      <td>Omentum</td>\n",
       "      <td>Cancer</td>\n",
       "    </tr>\n",
       "    <tr>\n",
       "      <th>1</th>\n",
       "      <td>BT1303_AAACCTGAGGCATGGT</td>\n",
       "      <td>249</td>\n",
       "      <td>421</td>\n",
       "      <td>1</td>\n",
       "      <td>11</td>\n",
       "      <td>Ovarian</td>\n",
       "      <td>Omentum</td>\n",
       "      <td>T_cell</td>\n",
       "    </tr>\n",
       "    <tr>\n",
       "      <th>2</th>\n",
       "      <td>BT1303_AAACCTGAGTATTGGA</td>\n",
       "      <td>226</td>\n",
       "      <td>407</td>\n",
       "      <td>1</td>\n",
       "      <td>11</td>\n",
       "      <td>Ovarian</td>\n",
       "      <td>Omentum</td>\n",
       "      <td>Cancer</td>\n",
       "    </tr>\n",
       "    <tr>\n",
       "      <th>3</th>\n",
       "      <td>BT1303_AAACCTGAGTGCAAGC</td>\n",
       "      <td>1433</td>\n",
       "      <td>2992</td>\n",
       "      <td>1</td>\n",
       "      <td>11</td>\n",
       "      <td>Ovarian</td>\n",
       "      <td>Omentum</td>\n",
       "      <td>Fibroblast</td>\n",
       "    </tr>\n",
       "    <tr>\n",
       "      <th>4</th>\n",
       "      <td>BT1303_AAACCTGAGTGGTAAT</td>\n",
       "      <td>259</td>\n",
       "      <td>409</td>\n",
       "      <td>1</td>\n",
       "      <td>11</td>\n",
       "      <td>Ovarian</td>\n",
       "      <td>Omentum</td>\n",
       "      <td>Cancer</td>\n",
       "    </tr>\n",
       "  </tbody>\n",
       "</table>\n",
       "</div>"
      ],
      "text/plain": [
       "                      Cell  nGene  nUMI  CellFromTumor  PatientNumber  \\\n",
       "0  BT1303_AAACCTGAGAGCCCAA    208   951              1             11   \n",
       "1  BT1303_AAACCTGAGGCATGGT    249   421              1             11   \n",
       "2  BT1303_AAACCTGAGTATTGGA    226   407              1             11   \n",
       "3  BT1303_AAACCTGAGTGCAAGC   1433  2992              1             11   \n",
       "4  BT1303_AAACCTGAGTGGTAAT    259   409              1             11   \n",
       "\n",
       "  TumorType TumorSite    CellType  \n",
       "0   Ovarian   Omentum      Cancer  \n",
       "1   Ovarian   Omentum      T_cell  \n",
       "2   Ovarian   Omentum      Cancer  \n",
       "3   Ovarian   Omentum  Fibroblast  \n",
       "4   Ovarian   Omentum      Cancer  "
      ]
     },
     "execution_count": 95,
     "metadata": {},
     "output_type": "execute_result"
    }
   ],
   "source": [
    "Metadata_oc = pd.read_csv(\"/mnt/lugli/SP025_NaClTcell/PangenomeBlueprint/OvC_metadata.csv\",header=0,low_memory=False)\n",
    "Metadata_oc.head()"
   ]
  },
  {
   "cell_type": "code",
   "execution_count": 96,
   "metadata": {},
   "outputs": [],
   "source": [
    "adata_oc.obs['CellId'] = Metadata_oc[\"Cell\"].to_list()\n",
    "adata_oc.obs['CellFromTumor'] = Metadata_oc[\"CellFromTumor\"].to_list()\n",
    "adata_oc.obs['PatientNumber'] = Metadata_oc[\"PatientNumber\"].to_list()\n",
    "adata_oc.obs['TumorType'] = Metadata_oc[\"TumorType\"].to_list()\n",
    "adata_oc.obs['TumorSite'] = Metadata_oc[\"TumorSite\"].to_list()\n",
    "adata_oc.obs['CellType'] = Metadata_oc[\"CellType\"].to_list()"
   ]
  },
  {
   "cell_type": "code",
   "execution_count": 97,
   "metadata": {},
   "outputs": [
    {
     "name": "stdout",
     "output_type": "stream",
     "text": [
      "11    22255\n",
      "14     6257\n",
      "15     6001\n",
      "13     5450\n",
      "12     5151\n",
      "Name: PatientNumber, dtype: int64\n"
     ]
    }
   ],
   "source": [
    "print(adata_oc.obs['PatientNumber'].value_counts())"
   ]
  },
  {
   "cell_type": "code",
   "execution_count": 98,
   "metadata": {},
   "outputs": [
    {
     "name": "stdout",
     "output_type": "stream",
     "text": [
      "Total number of cells from Ovarian cancer is  555080\n"
     ]
    }
   ],
   "source": [
    "print('Total number of cells from Ovarian cancer is ',sum(adata_oc.obs['PatientNumber']))"
   ]
  },
  {
   "cell_type": "markdown",
   "metadata": {},
   "source": [
    "# Import Colorectal Cancer dataset (7Ptz)"
   ]
  },
  {
   "cell_type": "code",
   "execution_count": 64,
   "metadata": {},
   "outputs": [
    {
     "name": "stdout",
     "output_type": "stream",
     "text": [
      "--> This might be very slow. Consider passing `cache=True`, which enables much faster reading from a cache file.\n"
     ]
    }
   ],
   "source": [
    "path_crc=\"/mnt/lugli/SP028_Autoimmunity/dataset/PangenomeBlueprint/CRC_counts/\"\n",
    "adata_crc = sc.read(\"\".join([path_crc,\"matrix.mtx\"]), cache=False)\n",
    "adata_crc = adata_crc.transpose()\n",
    "adata_crc.X = adata_crc.X.toarray()\n",
    "barcodes = pd.read_csv(\"\".join([path_crc,\"barcodes.tsv\"]), header=None, sep='\\t')\n",
    "genes = pd.read_csv(\"\".join([path_crc,\"genes.tsv\"]), header=None, sep='\\t')\n",
    "#Annotate data\n",
    "barcodes.rename(columns={0:'barcode'}, inplace=True)\n",
    "barcodes.set_index('barcode', inplace=True)\n",
    "adata_crc.obs = barcodes\n",
    "genes.rename(columns={0:'gene_id', 1:'gene_symbol'}, inplace=True)\n",
    "genes.set_index('gene_symbol', inplace=True)\n",
    "adata_crc.var = genes"
   ]
  },
  {
   "cell_type": "code",
   "execution_count": 65,
   "metadata": {},
   "outputs": [
    {
     "data": {
      "text/plain": [
       "AnnData object with n_obs × n_vars = 44684 × 33694 \n",
       "    var: 'gene_id'"
      ]
     },
     "execution_count": 65,
     "metadata": {},
     "output_type": "execute_result"
    }
   ],
   "source": [
    "adata_crc"
   ]
  },
  {
   "cell_type": "code",
   "execution_count": 66,
   "metadata": {},
   "outputs": [
    {
     "data": {
      "text/html": [
       "<div>\n",
       "<style scoped>\n",
       "    .dataframe tbody tr th:only-of-type {\n",
       "        vertical-align: middle;\n",
       "    }\n",
       "\n",
       "    .dataframe tbody tr th {\n",
       "        vertical-align: top;\n",
       "    }\n",
       "\n",
       "    .dataframe thead th {\n",
       "        text-align: right;\n",
       "    }\n",
       "</style>\n",
       "<table border=\"1\" class=\"dataframe\">\n",
       "  <thead>\n",
       "    <tr style=\"text-align: right;\">\n",
       "      <th></th>\n",
       "      <th>Cell</th>\n",
       "      <th>nGene</th>\n",
       "      <th>nUMI</th>\n",
       "      <th>CellFromTumor</th>\n",
       "      <th>PatientNumber</th>\n",
       "      <th>TumorType</th>\n",
       "      <th>TumorSite</th>\n",
       "      <th>CellType</th>\n",
       "    </tr>\n",
       "  </thead>\n",
       "  <tbody>\n",
       "    <tr>\n",
       "      <th>0</th>\n",
       "      <td>scrEXT001_AAACCTGGTCGGCTCA</td>\n",
       "      <td>345</td>\n",
       "      <td>633</td>\n",
       "      <td>True</td>\n",
       "      <td>31</td>\n",
       "      <td>CRC</td>\n",
       "      <td>C</td>\n",
       "      <td>Cancer</td>\n",
       "    </tr>\n",
       "    <tr>\n",
       "      <th>1</th>\n",
       "      <td>scrEXT001_AAACCTGGTCTTTCAT</td>\n",
       "      <td>2640</td>\n",
       "      <td>8119</td>\n",
       "      <td>True</td>\n",
       "      <td>31</td>\n",
       "      <td>CRC</td>\n",
       "      <td>C</td>\n",
       "      <td>Cancer</td>\n",
       "    </tr>\n",
       "    <tr>\n",
       "      <th>2</th>\n",
       "      <td>scrEXT001_AAACCTGTCACCACCT</td>\n",
       "      <td>2129</td>\n",
       "      <td>6999</td>\n",
       "      <td>True</td>\n",
       "      <td>31</td>\n",
       "      <td>CRC</td>\n",
       "      <td>C</td>\n",
       "      <td>Myeloid</td>\n",
       "    </tr>\n",
       "    <tr>\n",
       "      <th>3</th>\n",
       "      <td>scrEXT001_AAACCTGTCGTCCAGG</td>\n",
       "      <td>1297</td>\n",
       "      <td>3351</td>\n",
       "      <td>True</td>\n",
       "      <td>31</td>\n",
       "      <td>CRC</td>\n",
       "      <td>C</td>\n",
       "      <td>T_cell</td>\n",
       "    </tr>\n",
       "    <tr>\n",
       "      <th>4</th>\n",
       "      <td>scrEXT001_AAACCTGTCTGGGCCA</td>\n",
       "      <td>4912</td>\n",
       "      <td>23972</td>\n",
       "      <td>True</td>\n",
       "      <td>31</td>\n",
       "      <td>CRC</td>\n",
       "      <td>C</td>\n",
       "      <td>Fibroblast</td>\n",
       "    </tr>\n",
       "  </tbody>\n",
       "</table>\n",
       "</div>"
      ],
      "text/plain": [
       "                         Cell  nGene   nUMI  CellFromTumor  PatientNumber  \\\n",
       "0  scrEXT001_AAACCTGGTCGGCTCA    345    633           True             31   \n",
       "1  scrEXT001_AAACCTGGTCTTTCAT   2640   8119           True             31   \n",
       "2  scrEXT001_AAACCTGTCACCACCT   2129   6999           True             31   \n",
       "3  scrEXT001_AAACCTGTCGTCCAGG   1297   3351           True             31   \n",
       "4  scrEXT001_AAACCTGTCTGGGCCA   4912  23972           True             31   \n",
       "\n",
       "  TumorType TumorSite    CellType  \n",
       "0       CRC         C      Cancer  \n",
       "1       CRC         C      Cancer  \n",
       "2       CRC         C     Myeloid  \n",
       "3       CRC         C      T_cell  \n",
       "4       CRC         C  Fibroblast  "
      ]
     },
     "execution_count": 66,
     "metadata": {},
     "output_type": "execute_result"
    }
   ],
   "source": [
    "Metadata_crc = pd.read_csv(\"/mnt/lugli/SP025_NaClTcell/PangenomeBlueprint/CRC_metadata.csv\",header=0,low_memory=False)\n",
    "Metadata_crc.head()"
   ]
  },
  {
   "cell_type": "code",
   "execution_count": 67,
   "metadata": {},
   "outputs": [],
   "source": [
    "adata_crc.obs['CellId'] = Metadata_crc[\"Cell\"].to_list()\n",
    "adata_crc.obs['CellFromTumor'] = Metadata_crc[\"CellFromTumor\"].to_list()\n",
    "adata_crc.obs['PatientNumber'] = Metadata_crc[\"PatientNumber\"].to_list()\n",
    "adata_crc.obs['TumorType'] = Metadata_crc[\"TumorType\"].to_list()\n",
    "adata_crc.obs['TumorSite'] = Metadata_crc[\"TumorSite\"].to_list()\n",
    "adata_crc.obs['CellType'] = Metadata_crc[\"CellType\"].to_list()"
   ]
  },
  {
   "cell_type": "code",
   "execution_count": 80,
   "metadata": {},
   "outputs": [
    {
     "name": "stdout",
     "output_type": "stream",
     "text": [
      "Total number of cells from colorectal cancer is  1501634\n"
     ]
    }
   ],
   "source": [
    "print('Total number of cells from colorectal cancer is ',sum(adata_crc.obs['PatientNumber']))"
   ]
  },
  {
   "cell_type": "markdown",
   "metadata": {},
   "source": [
    "# Import Breast Cancer dataset (14Ptz)"
   ]
  },
  {
   "cell_type": "code",
   "execution_count": 84,
   "metadata": {},
   "outputs": [
    {
     "name": "stdout",
     "output_type": "stream",
     "text": [
      "--> This might be very slow. Consider passing `cache=True`, which enables much faster reading from a cache file.\n"
     ]
    }
   ],
   "source": [
    "path_bc=\"/mnt/lugli/SP028_Autoimmunity/dataset/PangenomeBlueprint/BC_counts/\"\n",
    "adata_bc = sc.read(\"\".join([path_bc,\"matrix.mtx\"]), cache=False)\n",
    "adata_bc = adata_bc.transpose()\n",
    "adata_bc.X = adata_bc.X.toarray()\n",
    "barcodes = pd.read_csv(\"\".join([path_bc,\"barcodes.tsv\"]), header=None, sep='\\t')\n",
    "genes = pd.read_csv(\"\".join([path_bc,\"genes.tsv\"]), header=None, sep='\\t')\n",
    "#Annotate data\n",
    "barcodes.rename(columns={0:'barcode'}, inplace=True)\n",
    "barcodes.set_index('barcode', inplace=True)\n",
    "adata_bc.obs = barcodes\n",
    "genes.rename(columns={0:'gene_id', 1:'gene_symbol'}, inplace=True)\n",
    "genes.set_index('gene_symbol', inplace=True)\n",
    "adata_bc.var = genes"
   ]
  },
  {
   "cell_type": "code",
   "execution_count": 85,
   "metadata": {},
   "outputs": [
    {
     "data": {
      "text/plain": [
       "AnnData object with n_obs × n_vars = 44024 × 33694 \n",
       "    var: 'gene_id'"
      ]
     },
     "execution_count": 85,
     "metadata": {},
     "output_type": "execute_result"
    }
   ],
   "source": [
    "adata_bc"
   ]
  },
  {
   "cell_type": "code",
   "execution_count": 86,
   "metadata": {},
   "outputs": [
    {
     "data": {
      "text/html": [
       "<div>\n",
       "<style scoped>\n",
       "    .dataframe tbody tr th:only-of-type {\n",
       "        vertical-align: middle;\n",
       "    }\n",
       "\n",
       "    .dataframe tbody tr th {\n",
       "        vertical-align: top;\n",
       "    }\n",
       "\n",
       "    .dataframe thead th {\n",
       "        text-align: right;\n",
       "    }\n",
       "</style>\n",
       "<table border=\"1\" class=\"dataframe\">\n",
       "  <thead>\n",
       "    <tr style=\"text-align: right;\">\n",
       "      <th></th>\n",
       "      <th>Cell</th>\n",
       "      <th>nGene</th>\n",
       "      <th>nUMI</th>\n",
       "      <th>CellFromTumor</th>\n",
       "      <th>PatientNumber</th>\n",
       "      <th>TumorType</th>\n",
       "      <th>TumorSite</th>\n",
       "      <th>CellType</th>\n",
       "    </tr>\n",
       "  </thead>\n",
       "  <tbody>\n",
       "    <tr>\n",
       "      <th>0</th>\n",
       "      <td>sc5rJUQ024_AAACCTGCAACAACCT</td>\n",
       "      <td>894</td>\n",
       "      <td>1624</td>\n",
       "      <td>True</td>\n",
       "      <td>41</td>\n",
       "      <td>BC</td>\n",
       "      <td>Biopsy</td>\n",
       "      <td>DC</td>\n",
       "    </tr>\n",
       "    <tr>\n",
       "      <th>1</th>\n",
       "      <td>sc5rJUQ024_AAACCTGCAAGAAGAG</td>\n",
       "      <td>1401</td>\n",
       "      <td>2983</td>\n",
       "      <td>True</td>\n",
       "      <td>41</td>\n",
       "      <td>BC</td>\n",
       "      <td>Biopsy</td>\n",
       "      <td>T_cell</td>\n",
       "    </tr>\n",
       "    <tr>\n",
       "      <th>2</th>\n",
       "      <td>sc5rJUQ024_AAACCTGGTCTCCACT</td>\n",
       "      <td>585</td>\n",
       "      <td>1141</td>\n",
       "      <td>True</td>\n",
       "      <td>41</td>\n",
       "      <td>BC</td>\n",
       "      <td>Biopsy</td>\n",
       "      <td>Cancer</td>\n",
       "    </tr>\n",
       "    <tr>\n",
       "      <th>3</th>\n",
       "      <td>sc5rJUQ024_AAACCTGTCAACGAAA</td>\n",
       "      <td>4233</td>\n",
       "      <td>18953</td>\n",
       "      <td>True</td>\n",
       "      <td>41</td>\n",
       "      <td>BC</td>\n",
       "      <td>Biopsy</td>\n",
       "      <td>Myeloid</td>\n",
       "    </tr>\n",
       "    <tr>\n",
       "      <th>4</th>\n",
       "      <td>sc5rJUQ024_AAACGGGAGAGTAAGG</td>\n",
       "      <td>1669</td>\n",
       "      <td>3794</td>\n",
       "      <td>True</td>\n",
       "      <td>41</td>\n",
       "      <td>BC</td>\n",
       "      <td>Biopsy</td>\n",
       "      <td>Fibroblast</td>\n",
       "    </tr>\n",
       "  </tbody>\n",
       "</table>\n",
       "</div>"
      ],
      "text/plain": [
       "                          Cell  nGene   nUMI  CellFromTumor  PatientNumber  \\\n",
       "0  sc5rJUQ024_AAACCTGCAACAACCT    894   1624           True             41   \n",
       "1  sc5rJUQ024_AAACCTGCAAGAAGAG   1401   2983           True             41   \n",
       "2  sc5rJUQ024_AAACCTGGTCTCCACT    585   1141           True             41   \n",
       "3  sc5rJUQ024_AAACCTGTCAACGAAA   4233  18953           True             41   \n",
       "4  sc5rJUQ024_AAACGGGAGAGTAAGG   1669   3794           True             41   \n",
       "\n",
       "  TumorType TumorSite    CellType  \n",
       "0        BC    Biopsy          DC  \n",
       "1        BC    Biopsy      T_cell  \n",
       "2        BC    Biopsy      Cancer  \n",
       "3        BC    Biopsy     Myeloid  \n",
       "4        BC    Biopsy  Fibroblast  "
      ]
     },
     "execution_count": 86,
     "metadata": {},
     "output_type": "execute_result"
    }
   ],
   "source": [
    "Metadata_bc = pd.read_csv(\"/mnt/lugli/SP025_NaClTcell/PangenomeBlueprint/BC_metadata.csv\",header=0,low_memory=False)\n",
    "Metadata_bc.head()"
   ]
  },
  {
   "cell_type": "code",
   "execution_count": 87,
   "metadata": {},
   "outputs": [],
   "source": [
    "adata_bc.obs['CellId'] = Metadata_bc[\"Cell\"].to_list()\n",
    "adata_bc.obs['CellFromTumor'] = Metadata_bc[\"CellFromTumor\"].to_list()\n",
    "adata_bc.obs['PatientNumber'] = Metadata_bc[\"PatientNumber\"].to_list()\n",
    "adata_bc.obs['TumorType'] = Metadata_bc[\"TumorType\"].to_list()\n",
    "adata_bc.obs['TumorSite'] = Metadata_bc[\"TumorSite\"].to_list()\n",
    "adata_bc.obs['CellType'] = Metadata_bc[\"CellType\"].to_list()"
   ]
  },
  {
   "cell_type": "code",
   "execution_count": 88,
   "metadata": {},
   "outputs": [
    {
     "name": "stdout",
     "output_type": "stream",
     "text": [
      "42    4876\n",
      "51    4862\n",
      "49    4616\n",
      "45    4472\n",
      "43    4251\n",
      "54    4216\n",
      "41    3921\n",
      "53    3641\n",
      "44    3558\n",
      "48    2427\n",
      "47    1719\n",
      "50     902\n",
      "52     362\n",
      "46     201\n",
      "Name: PatientNumber, dtype: int64\n"
     ]
    }
   ],
   "source": [
    "print(adata_bc.obs['PatientNumber'].value_counts())"
   ]
  },
  {
   "cell_type": "code",
   "execution_count": 89,
   "metadata": {},
   "outputs": [
    {
     "name": "stdout",
     "output_type": "stream",
     "text": [
      "Total number of cells from Breast cancer is  2071380\n"
     ]
    }
   ],
   "source": [
    "print('Total number of cells from Breast cancer is ',sum(adata_bc.obs['PatientNumber']))"
   ]
  },
  {
   "cell_type": "markdown",
   "metadata": {},
   "source": [
    "# Extract T_cells from Cancer Samples"
   ]
  },
  {
   "cell_type": "code",
   "execution_count": 99,
   "metadata": {},
   "outputs": [],
   "source": [
    "adata_lung = adata_lung[adata_lung.obs['CellType']  == \"T_cell\",:]\n",
    "adata_crc = adata_crc[adata_crc.obs['CellType']  == \"T_cell\",:]\n",
    "adata_oc = adata_oc[adata_oc.obs['CellType']  == \"T_cell\",:]\n",
    "adata_bc = adata_bc[adata_bc.obs['CellType']  == \"T_cell\",:]"
   ]
  },
  {
   "cell_type": "code",
   "execution_count": 105,
   "metadata": {},
   "outputs": [
    {
     "name": "stdout",
     "output_type": "stream",
     "text": [
      "Total number of T cells from Lung cancer is  73771\n"
     ]
    }
   ],
   "source": [
    "print('Total number of T cells from Lung cancer is ',sum(adata_lung.obs['PatientNumber']))"
   ]
  },
  {
   "cell_type": "code",
   "execution_count": 106,
   "metadata": {},
   "outputs": [
    {
     "name": "stdout",
     "output_type": "stream",
     "text": [
      "Total number of T cells from Ovarian cancer is  73534\n"
     ]
    }
   ],
   "source": [
    "print('Total number of T cells from Ovarian cancer is ',sum(adata_oc.obs['PatientNumber']))"
   ]
  },
  {
   "cell_type": "code",
   "execution_count": 107,
   "metadata": {},
   "outputs": [
    {
     "name": "stdout",
     "output_type": "stream",
     "text": [
      "Total number of T cells from Colorectal cancer is  291953\n"
     ]
    }
   ],
   "source": [
    "print('Total number of T cells from Colorectal cancer is ',sum(adata_crc.obs['PatientNumber']))"
   ]
  },
  {
   "cell_type": "code",
   "execution_count": 108,
   "metadata": {},
   "outputs": [
    {
     "name": "stdout",
     "output_type": "stream",
     "text": [
      "Total number of T cells from breast cancer is  662836\n"
     ]
    }
   ],
   "source": [
    "print('Total number of T cells from breast cancer is ',sum(adata_bc.obs['PatientNumber']))"
   ]
  },
  {
   "cell_type": "markdown",
   "metadata": {},
   "source": [
    "# Import SLE dataset"
   ]
  },
  {
   "cell_type": "code",
   "execution_count": 187,
   "metadata": {},
   "outputs": [],
   "source": [
    "SLE = sc.read_csv(\"/mnt/lugli/SP028_Autoimmunity/dataset/SLE_RNA_sequencing_result/SDY997_EXP15176_celseq_matrix_ru10_molecules.tsv\",delimiter='\\t', first_column_names=True)"
   ]
  },
  {
   "cell_type": "code",
   "execution_count": 188,
   "metadata": {},
   "outputs": [],
   "source": [
    "SLE = SLE.T"
   ]
  },
  {
   "cell_type": "code",
   "execution_count": 189,
   "metadata": {},
   "outputs": [
    {
     "data": {
      "text/plain": [
       "AnnData object with n_obs × n_vars = 8296 × 30155 "
      ]
     },
     "execution_count": 189,
     "metadata": {},
     "output_type": "execute_result"
    }
   ],
   "source": [
    "SLE"
   ]
  },
  {
   "cell_type": "code",
   "execution_count": 190,
   "metadata": {},
   "outputs": [],
   "source": [
    "Meta_sle = pd.read_csv(\"/mnt/lugli/SP028_Autoimmunity/dataset/SLE_RNA_sequencing_result/SDY997_EXP15176_celseq_meta.tsv\",sep=\"\\t\",header=0)"
   ]
  },
  {
   "cell_type": "code",
   "execution_count": 198,
   "metadata": {},
   "outputs": [
    {
     "data": {
      "text/html": [
       "<div>\n",
       "<style scoped>\n",
       "    .dataframe tbody tr th:only-of-type {\n",
       "        vertical-align: middle;\n",
       "    }\n",
       "\n",
       "    .dataframe tbody tr th {\n",
       "        vertical-align: top;\n",
       "    }\n",
       "\n",
       "    .dataframe thead th {\n",
       "        text-align: right;\n",
       "    }\n",
       "</style>\n",
       "<table border=\"1\" class=\"dataframe\">\n",
       "  <thead>\n",
       "    <tr style=\"text-align: right;\">\n",
       "      <th></th>\n",
       "      <th>cell_name</th>\n",
       "      <th>barcode</th>\n",
       "      <th>sample</th>\n",
       "      <th>type</th>\n",
       "      <th>disease</th>\n",
       "      <th>plate</th>\n",
       "      <th>lane</th>\n",
       "      <th>quadrant</th>\n",
       "      <th>well384</th>\n",
       "      <th>picard_pf_bases</th>\n",
       "      <th>...</th>\n",
       "      <th>genes_detected_ru1</th>\n",
       "      <th>genes_detected_reads_ru1</th>\n",
       "      <th>percent_mt_molecules_ru1</th>\n",
       "      <th>percent_mt_reads_ru1</th>\n",
       "      <th>reads</th>\n",
       "      <th>molecules</th>\n",
       "      <th>genes_detected</th>\n",
       "      <th>percent_mt_molecules</th>\n",
       "      <th>percent_top10</th>\n",
       "      <th>quadName</th>\n",
       "    </tr>\n",
       "  </thead>\n",
       "  <tbody>\n",
       "    <tr>\n",
       "      <th>777</th>\n",
       "      <td>K005_L1Q1_C13</td>\n",
       "      <td>GACATG</td>\n",
       "      <td>200-0109</td>\n",
       "      <td>Leukocyte</td>\n",
       "      <td>SLE</td>\n",
       "      <td>K005</td>\n",
       "      <td>1</td>\n",
       "      <td>1</td>\n",
       "      <td>C13</td>\n",
       "      <td>36839907</td>\n",
       "      <td>...</td>\n",
       "      <td>3173</td>\n",
       "      <td>3173</td>\n",
       "      <td>0.122160</td>\n",
       "      <td>0.149792</td>\n",
       "      <td>444024</td>\n",
       "      <td>4922</td>\n",
       "      <td>2377</td>\n",
       "      <td>0.082080</td>\n",
       "      <td>0.112556</td>\n",
       "      <td>K005_L1Q1</td>\n",
       "    </tr>\n",
       "    <tr>\n",
       "      <th>778</th>\n",
       "      <td>K005_L1Q1_C15</td>\n",
       "      <td>AGGAAG</td>\n",
       "      <td>200-0109</td>\n",
       "      <td>Leukocyte</td>\n",
       "      <td>SLE</td>\n",
       "      <td>K005</td>\n",
       "      <td>1</td>\n",
       "      <td>1</td>\n",
       "      <td>C15</td>\n",
       "      <td>19956321</td>\n",
       "      <td>...</td>\n",
       "      <td>2441</td>\n",
       "      <td>2441</td>\n",
       "      <td>0.152190</td>\n",
       "      <td>0.127877</td>\n",
       "      <td>237225</td>\n",
       "      <td>3142</td>\n",
       "      <td>1663</td>\n",
       "      <td>0.090707</td>\n",
       "      <td>0.127307</td>\n",
       "      <td>K005_L1Q1</td>\n",
       "    </tr>\n",
       "    <tr>\n",
       "      <th>779</th>\n",
       "      <td>K005_L1Q1_C17</td>\n",
       "      <td>CAGACA</td>\n",
       "      <td>200-0109</td>\n",
       "      <td>Leukocyte</td>\n",
       "      <td>SLE</td>\n",
       "      <td>K005</td>\n",
       "      <td>1</td>\n",
       "      <td>1</td>\n",
       "      <td>C17</td>\n",
       "      <td>12480885</td>\n",
       "      <td>...</td>\n",
       "      <td>1387</td>\n",
       "      <td>1387</td>\n",
       "      <td>0.317718</td>\n",
       "      <td>0.423460</td>\n",
       "      <td>92358</td>\n",
       "      <td>1173</td>\n",
       "      <td>621</td>\n",
       "      <td>0.304348</td>\n",
       "      <td>0.340153</td>\n",
       "      <td>K005_L1Q1</td>\n",
       "    </tr>\n",
       "    <tr>\n",
       "      <th>780</th>\n",
       "      <td>K005_L1Q1_C19</td>\n",
       "      <td>GTTGTC</td>\n",
       "      <td>200-0109</td>\n",
       "      <td>Leukocyte</td>\n",
       "      <td>SLE</td>\n",
       "      <td>K005</td>\n",
       "      <td>1</td>\n",
       "      <td>1</td>\n",
       "      <td>C19</td>\n",
       "      <td>31044345</td>\n",
       "      <td>...</td>\n",
       "      <td>2788</td>\n",
       "      <td>2788</td>\n",
       "      <td>0.164030</td>\n",
       "      <td>0.235383</td>\n",
       "      <td>341872</td>\n",
       "      <td>3989</td>\n",
       "      <td>1950</td>\n",
       "      <td>0.134119</td>\n",
       "      <td>0.157433</td>\n",
       "      <td>K005_L1Q1</td>\n",
       "    </tr>\n",
       "    <tr>\n",
       "      <th>781</th>\n",
       "      <td>K005_L1Q1_C21</td>\n",
       "      <td>CTTCAC</td>\n",
       "      <td>200-0109</td>\n",
       "      <td>Leukocyte</td>\n",
       "      <td>SLE</td>\n",
       "      <td>K005</td>\n",
       "      <td>1</td>\n",
       "      <td>1</td>\n",
       "      <td>C21</td>\n",
       "      <td>33110296</td>\n",
       "      <td>...</td>\n",
       "      <td>2964</td>\n",
       "      <td>2964</td>\n",
       "      <td>0.120410</td>\n",
       "      <td>0.143726</td>\n",
       "      <td>471365</td>\n",
       "      <td>5093</td>\n",
       "      <td>2164</td>\n",
       "      <td>0.084430</td>\n",
       "      <td>0.111722</td>\n",
       "      <td>K005_L1Q1</td>\n",
       "    </tr>\n",
       "  </tbody>\n",
       "</table>\n",
       "<p>5 rows × 35 columns</p>\n",
       "</div>"
      ],
      "text/plain": [
       "         cell_name barcode    sample       type disease plate  lane  quadrant  \\\n",
       "777  K005_L1Q1_C13  GACATG  200-0109  Leukocyte     SLE  K005     1         1   \n",
       "778  K005_L1Q1_C15  AGGAAG  200-0109  Leukocyte     SLE  K005     1         1   \n",
       "779  K005_L1Q1_C17  CAGACA  200-0109  Leukocyte     SLE  K005     1         1   \n",
       "780  K005_L1Q1_C19  GTTGTC  200-0109  Leukocyte     SLE  K005     1         1   \n",
       "781  K005_L1Q1_C21  CTTCAC  200-0109  Leukocyte     SLE  K005     1         1   \n",
       "\n",
       "    well384  picard_pf_bases  ...  genes_detected_ru1  \\\n",
       "777     C13         36839907  ...                3173   \n",
       "778     C15         19956321  ...                2441   \n",
       "779     C17         12480885  ...                1387   \n",
       "780     C19         31044345  ...                2788   \n",
       "781     C21         33110296  ...                2964   \n",
       "\n",
       "     genes_detected_reads_ru1  percent_mt_molecules_ru1  percent_mt_reads_ru1  \\\n",
       "777                      3173                  0.122160              0.149792   \n",
       "778                      2441                  0.152190              0.127877   \n",
       "779                      1387                  0.317718              0.423460   \n",
       "780                      2788                  0.164030              0.235383   \n",
       "781                      2964                  0.120410              0.143726   \n",
       "\n",
       "      reads  molecules  genes_detected  percent_mt_molecules  percent_top10  \\\n",
       "777  444024       4922            2377              0.082080       0.112556   \n",
       "778  237225       3142            1663              0.090707       0.127307   \n",
       "779   92358       1173             621              0.304348       0.340153   \n",
       "780  341872       3989            1950              0.134119       0.157433   \n",
       "781  471365       5093            2164              0.084430       0.111722   \n",
       "\n",
       "      quadName  \n",
       "777  K005_L1Q1  \n",
       "778  K005_L1Q1  \n",
       "779  K005_L1Q1  \n",
       "780  K005_L1Q1  \n",
       "781  K005_L1Q1  \n",
       "\n",
       "[5 rows x 35 columns]"
      ]
     },
     "execution_count": 198,
     "metadata": {},
     "output_type": "execute_result"
    }
   ],
   "source": [
    "Meta_sle.head()"
   ]
  },
  {
   "cell_type": "code",
   "execution_count": 194,
   "metadata": {},
   "outputs": [],
   "source": [
    "Meta_sle = Meta_sle.loc[(Meta_sle['sample']!= \"none\") & (Meta_sle['disease']== \"SLE\")]"
   ]
  },
  {
   "cell_type": "code",
   "execution_count": 195,
   "metadata": {},
   "outputs": [],
   "source": [
    "SLE = SLE[SLE.obs_names.isin(Meta_sle['cell_name'].to_list()),:]"
   ]
  },
  {
   "cell_type": "code",
   "execution_count": 196,
   "metadata": {},
   "outputs": [],
   "source": [
    "# Subset Leukocytes\n",
    "Meta_sle = Meta_sle.loc[Meta_sle['type'] == \"Leukocyte\"]\n",
    "SLE = SLE[SLE.obs_names.isin(Meta_sle['cell_name'].to_list()),:]"
   ]
  },
  {
   "cell_type": "code",
   "execution_count": 197,
   "metadata": {},
   "outputs": [
    {
     "data": {
      "text/plain": [
       "View of AnnData object with n_obs × n_vars = 5427 × 30155 "
      ]
     },
     "execution_count": 197,
     "metadata": {},
     "output_type": "execute_result"
    }
   ],
   "source": [
    "SLE.obs['CellId'] = Meta_sle[\"cell_name\"].to_list()\n",
    "SLE.obs['CellFromTumor'] = False\n",
    "SLE.obs['PatientNumber'] = Meta_sle[\"sample\"].to_list()\n",
    "SLE.obs['TumorType'] = Meta_sle[\"disease\"].to_list()\n",
    "SLE.obs['TumorSite'] = \"Kidneys\"\n",
    "SLE.obs['CellType'] = Meta_sle[\"type\"].to_list()"
   ]
  },
  {
   "cell_type": "markdown",
   "metadata": {},
   "source": [
    "# Import RA"
   ]
  },
  {
   "cell_type": "code",
   "execution_count": 283,
   "metadata": {},
   "outputs": [],
   "source": [
    "df = pd.read_csv(\"/mnt/lugli/SP028_Autoimmunity/dataset/RA_RNA_sequencing_result/celseq_matrix_ru10_molecules.tsv.725585.gz\",sep=\"\\t\",header=0)"
   ]
  },
  {
   "cell_type": "code",
   "execution_count": 284,
   "metadata": {},
   "outputs": [],
   "source": [
    "df = df.fillna(0)"
   ]
  },
  {
   "cell_type": "code",
   "execution_count": 285,
   "metadata": {},
   "outputs": [],
   "source": [
    "df = df.T"
   ]
  },
  {
   "cell_type": "code",
   "execution_count": 286,
   "metadata": {},
   "outputs": [],
   "source": [
    "df.to_csv(\"/mnt/lugli/SP028_Autoimmunity/dataset/RA_RNA_sequencing_result/celseq_matrix_ru10_molecules.tsv\",sep=\"\\t\",header=False,index=True)"
   ]
  },
  {
   "cell_type": "code",
   "execution_count": 287,
   "metadata": {},
   "outputs": [],
   "source": [
    "RA = sc.read_csv(\"/mnt/lugli/SP028_Autoimmunity/dataset/RA_RNA_sequencing_result/celseq_matrix_ru10_molecules.tsv\",delimiter='\\t', first_column_names=True)"
   ]
  },
  {
   "cell_type": "code",
   "execution_count": 288,
   "metadata": {},
   "outputs": [
    {
     "data": {
      "text/plain": [
       "AnnData object with n_obs × n_vars = 10099 × 29420 "
      ]
     },
     "execution_count": 288,
     "metadata": {},
     "output_type": "execute_result"
    }
   ],
   "source": [
    "RA"
   ]
  },
  {
   "cell_type": "code",
   "execution_count": 289,
   "metadata": {},
   "outputs": [],
   "source": [
    "Metadata_ra = pd.read_csv(\"/mnt/lugli/SP028_Autoimmunity/dataset/RA_RNA_sequencing_result/celseq_meta_unfiltered.tsv\",sep=\"\\t\",header=0)"
   ]
  },
  {
   "cell_type": "code",
   "execution_count": 290,
   "metadata": {},
   "outputs": [],
   "source": [
    "Metadata_ra = Metadata_ra.loc[(Metadata_ra['sample']!= \"none\") & (Metadata_ra['disease'] == \"RA\")]"
   ]
  },
  {
   "cell_type": "code",
   "execution_count": 291,
   "metadata": {},
   "outputs": [],
   "source": [
    "Metadata_ra = Metadata_ra.loc[Metadata_ra['type'] == \"T cell\"]"
   ]
  },
  {
   "cell_type": "code",
   "execution_count": 292,
   "metadata": {},
   "outputs": [],
   "source": [
    "RA = RA[RA.obs_names.isin(Metadata_ra['cell_name'].to_list()),:]"
   ]
  },
  {
   "cell_type": "code",
   "execution_count": 293,
   "metadata": {},
   "outputs": [
    {
     "data": {
      "text/plain": [
       "View of AnnData object with n_obs × n_vars = 2707 × 29420 "
      ]
     },
     "execution_count": 293,
     "metadata": {},
     "output_type": "execute_result"
    }
   ],
   "source": [
    "RA"
   ]
  },
  {
   "cell_type": "code",
   "execution_count": 303,
   "metadata": {},
   "outputs": [],
   "source": [
    "Metadata_ra = pd.merge(pd.DataFrame(RA.obs_names.to_series()),Metadata_ra,left_on=0,right_on=\"cell_name\")"
   ]
  },
  {
   "cell_type": "code",
   "execution_count": 304,
   "metadata": {},
   "outputs": [
    {
     "name": "stderr",
     "output_type": "stream",
     "text": [
      "Trying to set attribute `.obs` of view, copying.\n"
     ]
    }
   ],
   "source": [
    "RA.obs['CellId'] = Metadata_ra[\"cell_name\"].to_list()\n",
    "RA.obs['CellFromTumor'] = False\n",
    "RA.obs['PatientNumber'] = Metadata_ra[\"sample\"].to_list()\n",
    "RA.obs['TumorType'] = Metadata_ra[\"disease\"].to_list()\n",
    "RA.obs['TumorSite'] = \"SynovialFluid\"\n",
    "RA.obs['CellType'] = Metadata_ra[\"type\"].to_list()"
   ]
  },
  {
   "cell_type": "markdown",
   "metadata": {},
   "source": [
    "# Data Integration"
   ]
  },
  {
   "cell_type": "code",
   "execution_count": 311,
   "metadata": {},
   "outputs": [],
   "source": [
    "adata = RA.concatenate(SLE,adata_bc,adata_crc,adata_lung,adata_oc,index_unique=None)"
   ]
  },
  {
   "cell_type": "code",
   "execution_count": 309,
   "metadata": {},
   "outputs": [
    {
     "data": {
      "text/plain": [
       "AnnData object with n_obs × n_vars = 8134 × 26884 \n",
       "    obs: 'CellFromTumor', 'CellId', 'CellType', 'PatientNumber', 'TumorSite', 'TumorType', 'batch', 'zero_counts'"
      ]
     },
     "execution_count": 309,
     "metadata": {},
     "output_type": "execute_result"
    }
   ],
   "source": [
    "adata"
   ]
  },
  {
   "cell_type": "code",
   "execution_count": 312,
   "metadata": {},
   "outputs": [
    {
     "name": "stderr",
     "output_type": "stream",
     "text": [
      "... storing 'CellType' as categorical\n",
      "... storing 'PatientNumber' as categorical\n",
      "... storing 'TumorSite' as categorical\n",
      "... storing 'TumorType' as categorical\n",
      "... storing 'zero_counts' as categorical\n"
     ]
    }
   ],
   "source": [
    "adata.write(\"/mnt/lugli/SP028_Autoimmunity/h5_files/Concatenate_T_cell.h5ad\")"
   ]
  },
  {
   "cell_type": "code",
   "execution_count": 315,
   "metadata": {},
   "outputs": [],
   "source": [
    "adata = sc.read_h5ad(\"/mnt/lugli/SP028_Autoimmunity/h5_files/Concatenate_T_cell.h5ad\")"
   ]
  },
  {
   "cell_type": "code",
   "execution_count": 316,
   "metadata": {},
   "outputs": [
    {
     "name": "stdout",
     "output_type": "stream",
     "text": [
      "(56365, 23062)\n"
     ]
    }
   ],
   "source": [
    "print(adata.X.shape)"
   ]
  },
  {
   "cell_type": "code",
   "execution_count": 318,
   "metadata": {},
   "outputs": [
    {
     "name": "stdout",
     "output_type": "stream",
     "text": [
      "normalizing by total count per cell\n",
      "    finished (0:01:42): normalized adata.X and added    'n_counts', counts per cell before normalization (adata.obs)\n"
     ]
    }
   ],
   "source": [
    "adata2 = adata.copy()\n",
    "\n",
    "sc.pp.normalize_per_cell(adata2, counts_per_cell_after=1e4)\n",
    "sc.pp.log1p(adata2)"
   ]
  },
  {
   "cell_type": "code",
   "execution_count": 319,
   "metadata": {},
   "outputs": [
    {
     "name": "stdout",
     "output_type": "stream",
     "text": [
      "extracting highly variable genes\n",
      "    finished (0:00:25)\n",
      "--> added\n",
      "    'highly_variable', boolean vector (adata.var)\n",
      "    'means', float vector (adata.var)\n",
      "    'dispersions', float vector (adata.var)\n",
      "    'dispersions_norm', float vector (adata.var)\n"
     ]
    },
    {
     "data": {
      "image/png": "[encoded data removed]",
      "text/plain": [
       "<Figure size 1152x576 with 2 Axes>"
      ]
     },
     "metadata": {
      "needs_background": "light"
     },
     "output_type": "display_data"
    },
    {
     "name": "stdout",
     "output_type": "stream",
     "text": [
      "Highly variable genes: 3542\n"
     ]
    }
   ],
   "source": [
    "#variable genes for the full dataset\n",
    "sc.pp.highly_variable_genes(adata2, min_mean=0.0125, max_mean=3, min_disp=0.5)\n",
    "\n",
    "sc.pl.highly_variable_genes(adata2)\n",
    "\n",
    "print(\"Highly variable genes: %d\"%sum(adata2.var.highly_variable))\n",
    "\n",
    "var_genes_all = adata2.var.highly_variable"
   ]
  },
  {
   "cell_type": "code",
   "execution_count": 323,
   "metadata": {},
   "outputs": [
    {
     "name": "stdout",
     "output_type": "stream",
     "text": [
      "extracting highly variable genes\n",
      "    finished (0:00:24)\n",
      "--> added\n",
      "    'highly_variable', boolean vector (adata.var)\n",
      "    'means', float vector (adata.var)\n",
      "    'dispersions', float vector (adata.var)\n",
      "    'dispersions_norm', float vector (adata.var)\n",
      "Highly variable genes intersection: 55\n",
      "Number of batches where gene is variable:\n",
      "0    11976\n",
      "1     6559\n",
      "2     2639\n",
      "3     1109\n",
      "4      506\n",
      "5      218\n",
      "6       55\n",
      "Name: highly_variable_nbatches, dtype: int64\n"
     ]
    }
   ],
   "source": [
    "sc.pp.highly_variable_genes(adata2, min_mean=0.0125, max_mean=3, min_disp=0.5, batch_key = 'batch')\n",
    "\n",
    "print(\"Highly variable genes intersection: %d\"%sum(adata2.var.highly_variable_intersection))\n",
    "\n",
    "print(\"Number of batches where gene is variable:\")\n",
    "print(adata2.var.highly_variable_nbatches.value_counts())\n",
    "\n",
    "var_genes_batch = adata2.var.highly_variable_nbatches > 0"
   ]
  },
  {
   "cell_type": "code",
   "execution_count": 324,
   "metadata": {},
   "outputs": [
    {
     "name": "stdout",
     "output_type": "stream",
     "text": [
      "Any batch var genes: 11086\n",
      "All data var genes: 2177\n",
      "Overlap: 2175\n",
      "Variable genes in all batches: 1109\n",
      "Overlap batch instersection and all: 55\n"
     ]
    }
   ],
   "source": [
    "print(\"Any batch var genes: %d\"%sum(var_genes_batch))\n",
    "print(\"All data var genes: %d\"%sum(var_genes_all))\n",
    "print(\"Overlap: %d\"%sum(var_genes_batch & var_genes_all))\n",
    "print(\"Variable genes in all batches: %d\"%sum(adata2.var.highly_variable_nbatches ==3))\n",
    "print(\"Overlap batch instersection and all: %d\"%sum(var_genes_all & adata2.var.highly_variable_intersection))"
   ]
  },
  {
   "cell_type": "code",
   "execution_count": 325,
   "metadata": {},
   "outputs": [
    {
     "data": {
      "text/plain": [
       "4527"
      ]
     },
     "execution_count": 325,
     "metadata": {},
     "output_type": "execute_result"
    }
   ],
   "source": [
    "var_select = adata2.var.highly_variable_nbatches > 1\n",
    "var_genes = var_select.index[var_select]\n",
    "len(var_genes)\n"
   ]
  },
  {
   "cell_type": "code",
   "execution_count": 329,
   "metadata": {},
   "outputs": [
    {
     "data": {
      "text/plain": [
       "{'RA': View of AnnData object with n_obs × n_vars = 2707 × 23062 \n",
       "     obs: 'CellFromTumor', 'CellId', 'CellType', 'PatientNumber', 'TumorSite', 'TumorType', 'batch', 'zero_counts', 'n_counts'\n",
       "     var: 'gene_id-2', 'gene_id-3', 'gene_id-4', 'gene_id-5', 'highly_variable', 'means', 'dispersions', 'dispersions_norm', 'highly_variable_nbatches', 'highly_variable_intersection'\n",
       "     uns: 'log1p',\n",
       " 'SLE': View of AnnData object with n_obs × n_vars = 5427 × 23062 \n",
       "     obs: 'CellFromTumor', 'CellId', 'CellType', 'PatientNumber', 'TumorSite', 'TumorType', 'batch', 'zero_counts', 'n_counts'\n",
       "     var: 'gene_id-2', 'gene_id-3', 'gene_id-4', 'gene_id-5', 'highly_variable', 'means', 'dispersions', 'dispersions_norm', 'highly_variable_nbatches', 'highly_variable_intersection'\n",
       "     uns: 'log1p',\n",
       " 'BC': View of AnnData object with n_obs × n_vars = 14395 × 23062 \n",
       "     obs: 'CellFromTumor', 'CellId', 'CellType', 'PatientNumber', 'TumorSite', 'TumorType', 'batch', 'zero_counts', 'n_counts'\n",
       "     var: 'gene_id-2', 'gene_id-3', 'gene_id-4', 'gene_id-5', 'highly_variable', 'means', 'dispersions', 'dispersions_norm', 'highly_variable_nbatches', 'highly_variable_intersection'\n",
       "     uns: 'log1p',\n",
       " 'CRC': View of AnnData object with n_obs × n_vars = 8788 × 23062 \n",
       "     obs: 'CellFromTumor', 'CellId', 'CellType', 'PatientNumber', 'TumorSite', 'TumorType', 'batch', 'zero_counts', 'n_counts'\n",
       "     var: 'gene_id-2', 'gene_id-3', 'gene_id-4', 'gene_id-5', 'highly_variable', 'means', 'dispersions', 'dispersions_norm', 'highly_variable_nbatches', 'highly_variable_intersection'\n",
       "     uns: 'log1p',\n",
       " 'Lung': View of AnnData object with n_obs × n_vars = 18943 × 23062 \n",
       "     obs: 'CellFromTumor', 'CellId', 'CellType', 'PatientNumber', 'TumorSite', 'TumorType', 'batch', 'zero_counts', 'n_counts'\n",
       "     var: 'gene_id-2', 'gene_id-3', 'gene_id-4', 'gene_id-5', 'highly_variable', 'means', 'dispersions', 'dispersions_norm', 'highly_variable_nbatches', 'highly_variable_intersection'\n",
       "     uns: 'log1p',\n",
       " 'Ovarian': View of AnnData object with n_obs × n_vars = 6105 × 23062 \n",
       "     obs: 'CellFromTumor', 'CellId', 'CellType', 'PatientNumber', 'TumorSite', 'TumorType', 'batch', 'zero_counts', 'n_counts'\n",
       "     var: 'gene_id-2', 'gene_id-3', 'gene_id-4', 'gene_id-5', 'highly_variable', 'means', 'dispersions', 'dispersions_norm', 'highly_variable_nbatches', 'highly_variable_intersection'\n",
       "     uns: 'log1p'}"
      ]
     },
     "execution_count": 329,
     "metadata": {},
     "output_type": "execute_result"
    }
   ],
   "source": [
    "# split per batch into new objects.\n",
    "batches = ['RA','SLE','BC','CRC','Lung','Ovarian']\n",
    "alldata = {}\n",
    "for batch in batches:\n",
    "    alldata[batch] = adata2[adata2.obs['TumorType'] == batch,]\n",
    "\n",
    "alldata "
   ]
  },
  {
   "cell_type": "code",
   "execution_count": 344,
   "metadata": {},
   "outputs": [
    {
     "name": "stderr",
     "output_type": "stream",
     "text": [
      "/home/spuccio/miniconda3/envs/scrnseq/lib/python3.6/site-packages/mnnpy/utils.py:30: NumbaPerformanceWarning: \u001b[1m\u001b[1mnp.dot() is faster on contiguous arrays, called on (array(float32, 1d, A), array(float32, 1d, A))\u001b[0m\u001b[0m\n",
      "  dist[i, j] = np.dot(m[i], n[j])\n",
      "/home/spuccio/miniconda3/envs/scrnseq/lib/python3.6/site-packages/mnnpy/utils.py:205: NumbaPerformanceWarning: \u001b[1m\u001b[1mnp.dot() is faster on contiguous arrays, called on (array(float32, 1d, C), array(float32, 1d, A))\u001b[0m\u001b[0m\n",
      "  scale = np.dot(working, grad)\n",
      "/home/spuccio/miniconda3/envs/scrnseq/lib/python3.6/site-packages/mnnpy/utils.py:215: NumbaPerformanceWarning: \u001b[1m\u001b[1mnp.dot() is faster on contiguous arrays, called on (array(float32, 1d, C), array(float32, 1d, A))\u001b[0m\u001b[0m\n",
      "  curproj = np.dot(grad, curcell)\n",
      "/home/spuccio/miniconda3/envs/scrnseq/lib/python3.6/site-packages/mnnpy/utils.py:219: NumbaPerformanceWarning: \u001b[1m\u001b[1mnp.dot() is faster on contiguous arrays, called on (array(float32, 1d, C), array(float32, 1d, A))\u001b[0m\u001b[0m\n",
      "  sameproj = np.dot(grad, samecell)\n",
      "/home/spuccio/miniconda3/envs/scrnseq/lib/python3.6/site-packages/mnnpy/utils.py:229: NumbaPerformanceWarning: \u001b[1m\u001b[1mnp.dot() is faster on contiguous arrays, called on (array(float32, 1d, C), array(float32, 1d, A))\u001b[0m\u001b[0m\n",
      "  distance1[other, 0] = np.dot(grad, othercell)\n"
     ]
    },
    {
     "name": "stdout",
     "output_type": "stream",
     "text": [
      "Performing cosine normalization...\n",
      "Starting MNN correct iteration. Reference batch: 0\n",
      "Step 1 of 5: processing batch 1\n",
      "  Looking for MNNs...\n"
     ]
    },
    {
     "ename": "IndexError",
     "evalue": "index 2707 is out of bounds for axis 0 with size 2707",
     "output_type": "error",
     "traceback": [
      "\u001b[0;31m---------------------------------------------------------------------------\u001b[0m",
      "\u001b[0;31mIndexError\u001b[0m                                Traceback (most recent call last)",
      "\u001b[0;32m<ipython-input-344-4bc2e8b62602>\u001b[0m in \u001b[0;36m<module>\u001b[0;34m\u001b[0m\n\u001b[1;32m      1\u001b[0m cdata = sc.external.pp.mnn_correct(alldata['RA'],alldata['SLE'],alldata['BC'],alldata['CRC'],alldata['Lung'],alldata['Ovarian'],\n\u001b[1;32m      2\u001b[0m                                    \u001b[0msvd_dim\u001b[0m \u001b[0;34m=\u001b[0m \u001b[0;36m50\u001b[0m\u001b[0;34m,\u001b[0m \u001b[0mbatch_key\u001b[0m \u001b[0;34m=\u001b[0m \u001b[0;34m'TumorType'\u001b[0m\u001b[0;34m,\u001b[0m \u001b[0mbatch_categories\u001b[0m \u001b[0;34m=\u001b[0m \u001b[0;34m[\u001b[0m\u001b[0;34m'RA'\u001b[0m\u001b[0;34m,\u001b[0m\u001b[0;34m'SLE'\u001b[0m\u001b[0;34m,\u001b[0m\u001b[0;34m'BC'\u001b[0m\u001b[0;34m,\u001b[0m\u001b[0;34m'CRC'\u001b[0m\u001b[0;34m,\u001b[0m\u001b[0;34m'Lung'\u001b[0m\u001b[0;34m,\u001b[0m\u001b[0;34m'Ovarian'\u001b[0m\u001b[0;34m]\u001b[0m\u001b[0;34m,\u001b[0m\u001b[0msave_raw\u001b[0m \u001b[0;34m=\u001b[0m \u001b[0;32mTrue\u001b[0m\u001b[0;34m,\u001b[0m\u001b[0;34m\u001b[0m\u001b[0;34m\u001b[0m\u001b[0m\n\u001b[0;32m----> 3\u001b[0;31m                                    var_subset = var_genes)\n\u001b[0m",
      "\u001b[0;32m~/miniconda3/envs/scrnseq/lib/python3.6/site-packages/scanpy/external/pp/_mnn_correct.py\u001b[0m in \u001b[0;36mmnn_correct\u001b[0;34m(var_index, var_subset, batch_key, index_unique, batch_categories, k, sigma, cos_norm_in, cos_norm_out, svd_dim, var_adj, compute_angle, mnn_order, svd_mode, do_concatenate, save_raw, n_jobs, *datas, **kwargs)\u001b[0m\n\u001b[1;32m    152\u001b[0m         \u001b[0msave_raw\u001b[0m\u001b[0;34m=\u001b[0m\u001b[0msave_raw\u001b[0m\u001b[0;34m,\u001b[0m\u001b[0;34m\u001b[0m\u001b[0;34m\u001b[0m\u001b[0m\n\u001b[1;32m    153\u001b[0m         \u001b[0mn_jobs\u001b[0m\u001b[0;34m=\u001b[0m\u001b[0mn_jobs\u001b[0m\u001b[0;34m,\u001b[0m\u001b[0;34m\u001b[0m\u001b[0;34m\u001b[0m\u001b[0m\n\u001b[0;32m--> 154\u001b[0;31m         \u001b[0;34m**\u001b[0m\u001b[0mkwargs\u001b[0m\u001b[0;34m,\u001b[0m\u001b[0;34m\u001b[0m\u001b[0;34m\u001b[0m\u001b[0m\n\u001b[0m\u001b[1;32m    155\u001b[0m     )\n\u001b[1;32m    156\u001b[0m     \u001b[0;32mreturn\u001b[0m \u001b[0mdatas\u001b[0m\u001b[0;34m,\u001b[0m \u001b[0mmnn_list\u001b[0m\u001b[0;34m,\u001b[0m \u001b[0mangle_list\u001b[0m\u001b[0;34m\u001b[0m\u001b[0;34m\u001b[0m\u001b[0m\n",
      "\u001b[0;32m~/miniconda3/envs/scrnseq/lib/python3.6/site-packages/mnnpy/mnn.py\u001b[0m in \u001b[0;36mmnn_correct\u001b[0;34m(var_index, var_subset, batch_key, index_unique, batch_categories, k, sigma, cos_norm_in, cos_norm_out, svd_dim, var_adj, compute_angle, mnn_order, svd_mode, do_concatenate, save_raw, n_jobs, *datas, **kwargs)\u001b[0m\n\u001b[1;32m    124\u001b[0m                                 \u001b[0mcos_norm_out\u001b[0m\u001b[0;34m=\u001b[0m\u001b[0mcos_norm_out\u001b[0m\u001b[0;34m,\u001b[0m \u001b[0msvd_dim\u001b[0m\u001b[0;34m=\u001b[0m\u001b[0msvd_dim\u001b[0m\u001b[0;34m,\u001b[0m \u001b[0mvar_adj\u001b[0m\u001b[0;34m=\u001b[0m\u001b[0mvar_adj\u001b[0m\u001b[0;34m,\u001b[0m\u001b[0;34m\u001b[0m\u001b[0;34m\u001b[0m\u001b[0m\n\u001b[1;32m    125\u001b[0m                                 \u001b[0mcompute_angle\u001b[0m\u001b[0;34m=\u001b[0m\u001b[0mcompute_angle\u001b[0m\u001b[0;34m,\u001b[0m \u001b[0mmnn_order\u001b[0m\u001b[0;34m=\u001b[0m\u001b[0mmnn_order\u001b[0m\u001b[0;34m,\u001b[0m\u001b[0;34m\u001b[0m\u001b[0;34m\u001b[0m\u001b[0m\n\u001b[0;32m--> 126\u001b[0;31m                                 svd_mode=svd_mode, do_concatenate=do_concatenate, **kwargs)\n\u001b[0m\u001b[1;32m    127\u001b[0m         \u001b[0mprint\u001b[0m\u001b[0;34m(\u001b[0m\u001b[0;34m'Packing AnnData object...'\u001b[0m\u001b[0;34m)\u001b[0m\u001b[0;34m\u001b[0m\u001b[0;34m\u001b[0m\u001b[0m\n\u001b[1;32m    128\u001b[0m         \u001b[0;32mif\u001b[0m \u001b[0mdo_concatenate\u001b[0m\u001b[0;34m:\u001b[0m\u001b[0;34m\u001b[0m\u001b[0;34m\u001b[0m\u001b[0m\n",
      "\u001b[0;32m~/miniconda3/envs/scrnseq/lib/python3.6/site-packages/mnnpy/mnn.py\u001b[0m in \u001b[0;36mmnn_correct\u001b[0;34m(var_index, var_subset, batch_key, index_unique, batch_categories, k, sigma, cos_norm_in, cos_norm_out, svd_dim, var_adj, compute_angle, mnn_order, svd_mode, do_concatenate, save_raw, n_jobs, *datas, **kwargs)\u001b[0m\n\u001b[1;32m    177\u001b[0m         \u001b[0mprint\u001b[0m\u001b[0;34m(\u001b[0m\u001b[0;34m'  Looking for MNNs...'\u001b[0m\u001b[0;34m)\u001b[0m\u001b[0;34m\u001b[0m\u001b[0;34m\u001b[0m\u001b[0m\n\u001b[1;32m    178\u001b[0m         mnn_ref, mnn_new = find_mutual_nn(data1=ref_batch_in, data2=new_batch_in, k1=k, k2=k,\n\u001b[0;32m--> 179\u001b[0;31m                                           n_jobs=n_jobs)\n\u001b[0m\u001b[1;32m    180\u001b[0m         \u001b[0mprint\u001b[0m\u001b[0;34m(\u001b[0m\u001b[0;34m'  Computing correction vectors...'\u001b[0m\u001b[0;34m)\u001b[0m\u001b[0;34m\u001b[0m\u001b[0;34m\u001b[0m\u001b[0m\n\u001b[1;32m    181\u001b[0m         correction_in = compute_correction(ref_batch_in, new_batch_in, mnn_ref, mnn_new,\n",
      "\u001b[0;31mIndexError\u001b[0m: index 2707 is out of bounds for axis 0 with size 2707"
     ]
    }
   ],
   "source": [
    "cdata = sc.external.pp.mnn_correct(alldata['RA'],alldata['SLE'],alldata['BC'],alldata['CRC'],alldata['Lung'],alldata['Ovarian'],\n",
    "                                   svd_dim = 50, batch_key = 'TumorType', batch_categories = ['RA','SLE','BC','CRC','Lung','Ovarian'],save_raw = True,\n",
    "                                   var_subset = var_genes)"
   ]
  },
  {
   "cell_type": "code",
   "execution_count": 345,
   "metadata": {},
   "outputs": [
    {
     "data": {
      "text/plain": [
       "{'RA': View of AnnData object with n_obs × n_vars = 2707 × 23062 \n",
       "     obs: 'CellFromTumor', 'CellId', 'CellType', 'PatientNumber', 'TumorSite', 'TumorType', 'batch', 'zero_counts', 'n_counts'\n",
       "     var: 'gene_id-2', 'gene_id-3', 'gene_id-4', 'gene_id-5', 'highly_variable', 'means', 'dispersions', 'dispersions_norm', 'highly_variable_nbatches', 'highly_variable_intersection'\n",
       "     uns: 'log1p',\n",
       " 'SLE': View of AnnData object with n_obs × n_vars = 5427 × 23062 \n",
       "     obs: 'CellFromTumor', 'CellId', 'CellType', 'PatientNumber', 'TumorSite', 'TumorType', 'batch', 'zero_counts', 'n_counts'\n",
       "     var: 'gene_id-2', 'gene_id-3', 'gene_id-4', 'gene_id-5', 'highly_variable', 'means', 'dispersions', 'dispersions_norm', 'highly_variable_nbatches', 'highly_variable_intersection'\n",
       "     uns: 'log1p',\n",
       " 'BC': View of AnnData object with n_obs × n_vars = 14395 × 23062 \n",
       "     obs: 'CellFromTumor', 'CellId', 'CellType', 'PatientNumber', 'TumorSite', 'TumorType', 'batch', 'zero_counts', 'n_counts'\n",
       "     var: 'gene_id-2', 'gene_id-3', 'gene_id-4', 'gene_id-5', 'highly_variable', 'means', 'dispersions', 'dispersions_norm', 'highly_variable_nbatches', 'highly_variable_intersection'\n",
       "     uns: 'log1p',\n",
       " 'CRC': View of AnnData object with n_obs × n_vars = 8788 × 23062 \n",
       "     obs: 'CellFromTumor', 'CellId', 'CellType', 'PatientNumber', 'TumorSite', 'TumorType', 'batch', 'zero_counts', 'n_counts'\n",
       "     var: 'gene_id-2', 'gene_id-3', 'gene_id-4', 'gene_id-5', 'highly_variable', 'means', 'dispersions', 'dispersions_norm', 'highly_variable_nbatches', 'highly_variable_intersection'\n",
       "     uns: 'log1p',\n",
       " 'Lung': View of AnnData object with n_obs × n_vars = 18943 × 23062 \n",
       "     obs: 'CellFromTumor', 'CellId', 'CellType', 'PatientNumber', 'TumorSite', 'TumorType', 'batch', 'zero_counts', 'n_counts'\n",
       "     var: 'gene_id-2', 'gene_id-3', 'gene_id-4', 'gene_id-5', 'highly_variable', 'means', 'dispersions', 'dispersions_norm', 'highly_variable_nbatches', 'highly_variable_intersection'\n",
       "     uns: 'log1p',\n",
       " 'Ovarian': View of AnnData object with n_obs × n_vars = 6105 × 23062 \n",
       "     obs: 'CellFromTumor', 'CellId', 'CellType', 'PatientNumber', 'TumorSite', 'TumorType', 'batch', 'zero_counts', 'n_counts'\n",
       "     var: 'gene_id-2', 'gene_id-3', 'gene_id-4', 'gene_id-5', 'highly_variable', 'means', 'dispersions', 'dispersions_norm', 'highly_variable_nbatches', 'highly_variable_intersection'\n",
       "     uns: 'log1p'}"
      ]
     },
     "execution_count": 345,
     "metadata": {},
     "output_type": "execute_result"
    }
   ],
   "source": [
    "alldata"
   ]
  },
  {
   "cell_type": "code",
   "execution_count": 347,
   "metadata": {},
   "outputs": [
    {
     "data": {
      "text/html": [
       "<div>\n",
       "<style scoped>\n",
       "    .dataframe tbody tr th:only-of-type {\n",
       "        vertical-align: middle;\n",
       "    }\n",
       "\n",
       "    .dataframe tbody tr th {\n",
       "        vertical-align: top;\n",
       "    }\n",
       "\n",
       "    .dataframe thead th {\n",
       "        text-align: right;\n",
       "    }\n",
       "</style>\n",
       "<table border=\"1\" class=\"dataframe\">\n",
       "  <thead>\n",
       "    <tr style=\"text-align: right;\">\n",
       "      <th></th>\n",
       "      <th>gene_id-2</th>\n",
       "      <th>gene_id-3</th>\n",
       "      <th>gene_id-4</th>\n",
       "      <th>gene_id-5</th>\n",
       "      <th>highly_variable</th>\n",
       "      <th>means</th>\n",
       "      <th>dispersions</th>\n",
       "      <th>dispersions_norm</th>\n",
       "      <th>highly_variable_nbatches</th>\n",
       "      <th>highly_variable_intersection</th>\n",
       "    </tr>\n",
       "  </thead>\n",
       "  <tbody>\n",
       "    <tr>\n",
       "      <th>A1BG</th>\n",
       "      <td>A1BG</td>\n",
       "      <td>A1BG</td>\n",
       "      <td>A1BG</td>\n",
       "      <td>A1BG</td>\n",
       "      <td>False</td>\n",
       "      <td>0.239584</td>\n",
       "      <td>1.695040</td>\n",
       "      <td>-0.385515</td>\n",
       "      <td>0</td>\n",
       "      <td>False</td>\n",
       "    </tr>\n",
       "    <tr>\n",
       "      <th>A1BG-AS1</th>\n",
       "      <td>A1BG-AS1</td>\n",
       "      <td>A1BG-AS1</td>\n",
       "      <td>A1BG-AS1</td>\n",
       "      <td>A1BG-AS1</td>\n",
       "      <td>False</td>\n",
       "      <td>0.069760</td>\n",
       "      <td>1.768090</td>\n",
       "      <td>-0.116103</td>\n",
       "      <td>0</td>\n",
       "      <td>False</td>\n",
       "    </tr>\n",
       "    <tr>\n",
       "      <th>A1CF</th>\n",
       "      <td>A1CF</td>\n",
       "      <td>A1CF</td>\n",
       "      <td>A1CF</td>\n",
       "      <td>A1CF</td>\n",
       "      <td>False</td>\n",
       "      <td>0.010191</td>\n",
       "      <td>1.374626</td>\n",
       "      <td>-0.010254</td>\n",
       "      <td>3</td>\n",
       "      <td>False</td>\n",
       "    </tr>\n",
       "    <tr>\n",
       "      <th>A2M</th>\n",
       "      <td>A2M</td>\n",
       "      <td>A2M</td>\n",
       "      <td>A2M</td>\n",
       "      <td>A2M</td>\n",
       "      <td>False</td>\n",
       "      <td>0.147814</td>\n",
       "      <td>2.194941</td>\n",
       "      <td>0.434727</td>\n",
       "      <td>4</td>\n",
       "      <td>False</td>\n",
       "    </tr>\n",
       "    <tr>\n",
       "      <th>A2M-AS1</th>\n",
       "      <td>A2M-AS1</td>\n",
       "      <td>A2M-AS1</td>\n",
       "      <td>A2M-AS1</td>\n",
       "      <td>A2M-AS1</td>\n",
       "      <td>True</td>\n",
       "      <td>0.205136</td>\n",
       "      <td>2.184089</td>\n",
       "      <td>0.575672</td>\n",
       "      <td>3</td>\n",
       "      <td>False</td>\n",
       "    </tr>\n",
       "    <tr>\n",
       "      <th>...</th>\n",
       "      <td>...</td>\n",
       "      <td>...</td>\n",
       "      <td>...</td>\n",
       "      <td>...</td>\n",
       "      <td>...</td>\n",
       "      <td>...</td>\n",
       "      <td>...</td>\n",
       "      <td>...</td>\n",
       "      <td>...</td>\n",
       "      <td>...</td>\n",
       "    </tr>\n",
       "    <tr>\n",
       "      <th>ZYG11A</th>\n",
       "      <td>ZYG11A</td>\n",
       "      <td>ZYG11A</td>\n",
       "      <td>ZYG11A</td>\n",
       "      <td>ZYG11A</td>\n",
       "      <td>False</td>\n",
       "      <td>0.002781</td>\n",
       "      <td>1.212010</td>\n",
       "      <td>-0.068325</td>\n",
       "      <td>1</td>\n",
       "      <td>False</td>\n",
       "    </tr>\n",
       "    <tr>\n",
       "      <th>ZYG11B</th>\n",
       "      <td>ZYG11B</td>\n",
       "      <td>ZYG11B</td>\n",
       "      <td>ZYG11B</td>\n",
       "      <td>ZYG11B</td>\n",
       "      <td>False</td>\n",
       "      <td>0.159807</td>\n",
       "      <td>1.918454</td>\n",
       "      <td>0.084336</td>\n",
       "      <td>1</td>\n",
       "      <td>False</td>\n",
       "    </tr>\n",
       "    <tr>\n",
       "      <th>ZYX</th>\n",
       "      <td>ZYX</td>\n",
       "      <td>ZYX</td>\n",
       "      <td>ZYX</td>\n",
       "      <td>ZYX</td>\n",
       "      <td>False</td>\n",
       "      <td>0.880038</td>\n",
       "      <td>2.024590</td>\n",
       "      <td>-0.663173</td>\n",
       "      <td>0</td>\n",
       "      <td>False</td>\n",
       "    </tr>\n",
       "    <tr>\n",
       "      <th>ZZEF1</th>\n",
       "      <td>ZZEF1</td>\n",
       "      <td>ZZEF1</td>\n",
       "      <td>ZZEF1</td>\n",
       "      <td>ZZEF1</td>\n",
       "      <td>False</td>\n",
       "      <td>0.352405</td>\n",
       "      <td>2.402992</td>\n",
       "      <td>0.313773</td>\n",
       "      <td>1</td>\n",
       "      <td>False</td>\n",
       "    </tr>\n",
       "    <tr>\n",
       "      <th>ZZZ3</th>\n",
       "      <td>ZZZ3</td>\n",
       "      <td>ZZZ3</td>\n",
       "      <td>ZZZ3</td>\n",
       "      <td>ZZZ3</td>\n",
       "      <td>True</td>\n",
       "      <td>0.290184</td>\n",
       "      <td>2.658797</td>\n",
       "      <td>0.611156</td>\n",
       "      <td>4</td>\n",
       "      <td>False</td>\n",
       "    </tr>\n",
       "  </tbody>\n",
       "</table>\n",
       "<p>23062 rows × 10 columns</p>\n",
       "</div>"
      ],
      "text/plain": [
       "         gene_id-2 gene_id-3 gene_id-4 gene_id-5  highly_variable     means  \\\n",
       "A1BG          A1BG      A1BG      A1BG      A1BG            False  0.239584   \n",
       "A1BG-AS1  A1BG-AS1  A1BG-AS1  A1BG-AS1  A1BG-AS1            False  0.069760   \n",
       "A1CF          A1CF      A1CF      A1CF      A1CF            False  0.010191   \n",
       "A2M            A2M       A2M       A2M       A2M            False  0.147814   \n",
       "A2M-AS1    A2M-AS1   A2M-AS1   A2M-AS1   A2M-AS1             True  0.205136   \n",
       "...            ...       ...       ...       ...              ...       ...   \n",
       "ZYG11A      ZYG11A    ZYG11A    ZYG11A    ZYG11A            False  0.002781   \n",
       "ZYG11B      ZYG11B    ZYG11B    ZYG11B    ZYG11B            False  0.159807   \n",
       "ZYX            ZYX       ZYX       ZYX       ZYX            False  0.880038   \n",
       "ZZEF1        ZZEF1     ZZEF1     ZZEF1     ZZEF1            False  0.352405   \n",
       "ZZZ3          ZZZ3      ZZZ3      ZZZ3      ZZZ3             True  0.290184   \n",
       "\n",
       "          dispersions  dispersions_norm  highly_variable_nbatches  \\\n",
       "A1BG         1.695040         -0.385515                         0   \n",
       "A1BG-AS1     1.768090         -0.116103                         0   \n",
       "A1CF         1.374626         -0.010254                         3   \n",
       "A2M          2.194941          0.434727                         4   \n",
       "A2M-AS1      2.184089          0.575672                         3   \n",
       "...               ...               ...                       ...   \n",
       "ZYG11A       1.212010         -0.068325                         1   \n",
       "ZYG11B       1.918454          0.084336                         1   \n",
       "ZYX          2.024590         -0.663173                         0   \n",
       "ZZEF1        2.402992          0.313773                         1   \n",
       "ZZZ3         2.658797          0.611156                         4   \n",
       "\n",
       "          highly_variable_intersection  \n",
       "A1BG                             False  \n",
       "A1BG-AS1                         False  \n",
       "A1CF                             False  \n",
       "A2M                              False  \n",
       "A2M-AS1                          False  \n",
       "...                                ...  \n",
       "ZYG11A                           False  \n",
       "ZYG11B                           False  \n",
       "ZYX                              False  \n",
       "ZZEF1                            False  \n",
       "ZZZ3                             False  \n",
       "\n",
       "[23062 rows x 10 columns]"
      ]
     },
     "execution_count": 347,
     "metadata": {},
     "output_type": "execute_result"
    }
   ],
   "source": [
    "alldata['RA'].var"
   ]
  },
  {
   "cell_type": "code",
   "execution_count": null,
   "metadata": {},
   "outputs": [],
   "source": []
  }
 ],
 "metadata": {
  "kernelspec": {
   "display_name": "Python (scrnaseq)",
   "language": "python",
   "name": "scrnseq"
  },
  "language_info": {
   "codemirror_mode": {
    "name": "ipython",
    "version": 3
   },
   "file_extension": ".py",
   "mimetype": "text/x-python",
   "name": "python",
   "nbconvert_exporter": "python",
   "pygments_lexer": "ipython3",
   "version": "3.6.10"
  }
 },
 "nbformat": 4,
 "nbformat_minor": 4
}
